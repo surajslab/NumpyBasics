{
  "nbformat": 4,
  "nbformat_minor": 0,
  "metadata": {
    "colab": {
      "name": "Numpy Complete.ipynb",
      "provenance": [],
      "authorship_tag": "ABX9TyN15C2Tx6VbE7ntsmQKA/UH",
      "include_colab_link": true
    },
    "kernelspec": {
      "name": "python3",
      "display_name": "Python 3"
    },
    "language_info": {
      "name": "python"
    }
  },
  "cells": [
    {
      "cell_type": "markdown",
      "metadata": {
        "id": "view-in-github",
        "colab_type": "text"
      },
      "source": [
        "<a href=\"https://colab.research.google.com/github/surajslab/NumpyBasics/blob/main/Numpy_Complete.ipynb\" target=\"_parent\"><img src=\"https://colab.research.google.com/assets/colab-badge.svg\" alt=\"Open In Colab\"/></a>"
      ]
    },
    {
      "cell_type": "markdown",
      "source": [
        "Reference : https://www.youtube.com/watch?v=TKoRXk_Wzog&list=PL9oKUrtC4VP6gDp1Vq3BzfViO0TWgR0vR&index=5"
      ],
      "metadata": {
        "id": "uNpP5ZtiIkP_"
      }
    },
    {
      "cell_type": "markdown",
      "source": [
        "## **Importing Numpy**"
      ],
      "metadata": {
        "id": "LKflIaQsq_30"
      }
    },
    {
      "cell_type": "code",
      "execution_count": 2,
      "metadata": {
        "id": "j9WuIo_9IfJ0"
      },
      "outputs": [],
      "source": [
        "import numpy as np"
      ]
    },
    {
      "cell_type": "markdown",
      "source": [
        "### 1-D Array"
      ],
      "metadata": {
        "id": "W1Y8l2WZJCOl"
      }
    },
    {
      "cell_type": "code",
      "source": [
        "arr = np.array([1,2,3,4,5])\n",
        "arr.shape\n"
      ],
      "metadata": {
        "colab": {
          "base_uri": "https://localhost:8080/"
        },
        "id": "Y14u80hxI94k",
        "outputId": "100cd886-5020-4e7a-a27e-841598c97bbf"
      },
      "execution_count": null,
      "outputs": [
        {
          "output_type": "execute_result",
          "data": {
            "text/plain": [
              "(5,)"
            ]
          },
          "metadata": {},
          "execution_count": 2
        }
      ]
    },
    {
      "cell_type": "markdown",
      "source": [
        "### 2-D Array"
      ],
      "metadata": {
        "id": "rDXZ_2YzKA64"
      }
    },
    {
      "cell_type": "code",
      "source": [
        "arr= np.array([\n",
        "               \n",
        "               [1,2,3,4],\n",
        "               [1,2,3,4],\n",
        "               [1,2,3,4],\n",
        "               [1,2,3,4]\n",
        "               \n",
        "\n",
        "])\n",
        "arr.shape"
      ],
      "metadata": {
        "colab": {
          "base_uri": "https://localhost:8080/"
        },
        "id": "r7icJ3FZJJ4-",
        "outputId": "b4598f8e-54bf-47e5-ca29-4af789b0aaf3"
      },
      "execution_count": null,
      "outputs": [
        {
          "output_type": "execute_result",
          "data": {
            "text/plain": [
              "(4, 4)"
            ]
          },
          "metadata": {},
          "execution_count": 3
        }
      ]
    },
    {
      "cell_type": "markdown",
      "source": [
        "### 3-D Array"
      ],
      "metadata": {
        "id": "Tt1-HYt3KDC1"
      }
    },
    {
      "cell_type": "markdown",
      "source": [
        "**Intuition is imagining 3d arrays as 1D row of 2D arrays**"
      ],
      "metadata": {
        "id": "ZKO2mkxkrMgk"
      }
    },
    {
      "cell_type": "code",
      "source": [
        "arr= np.array([\n",
        "               \n",
        "               [\n",
        "                \n",
        "                [1,2,3],\n",
        "                [1,2,3],\n",
        "                [1,2,3]\n",
        "\n",
        "               ],\n",
        "               \n",
        "               [\n",
        "\n",
        "               [1,2,3],\n",
        "               [1,2,3],\n",
        "               [1,2,3]\n",
        "               \n",
        "               \n",
        "               ]\n",
        "\n",
        "\n",
        "\n",
        "])\n",
        "\n",
        "arr.shape"
      ],
      "metadata": {
        "colab": {
          "base_uri": "https://localhost:8080/"
        },
        "id": "hmqKahU9JU5Y",
        "outputId": "2e3c80c4-c61a-430c-9b99-2509e2a5af5a"
      },
      "execution_count": null,
      "outputs": [
        {
          "output_type": "execute_result",
          "data": {
            "text/plain": [
              "(2, 3, 3)"
            ]
          },
          "metadata": {},
          "execution_count": 4
        }
      ]
    },
    {
      "cell_type": "markdown",
      "source": [
        "## **Creating arrays in numpy**"
      ],
      "metadata": {
        "id": "coycL4pVPfDr"
      }
    },
    {
      "cell_type": "markdown",
      "source": [
        "### Creating array of Zeros "
      ],
      "metadata": {
        "id": "yq4jqc7Mrsbv"
      }
    },
    {
      "cell_type": "code",
      "source": [
        "np.zeros(shape=(1,2))"
      ],
      "metadata": {
        "colab": {
          "base_uri": "https://localhost:8080/"
        },
        "id": "2CZwSPd-JwQH",
        "outputId": "2a4010be-5d21-4051-cd03-2f795da8aaf4"
      },
      "execution_count": null,
      "outputs": [
        {
          "output_type": "execute_result",
          "data": {
            "text/plain": [
              "array([[0., 0.]])"
            ]
          },
          "metadata": {},
          "execution_count": 5
        }
      ]
    },
    {
      "cell_type": "code",
      "source": [
        "np.zeros(shape=(3,5))"
      ],
      "metadata": {
        "colab": {
          "base_uri": "https://localhost:8080/"
        },
        "id": "OHJ9JDNuPj-a",
        "outputId": "f9d9ce7d-3a06-4df3-c409-46958528a5df"
      },
      "execution_count": null,
      "outputs": [
        {
          "output_type": "execute_result",
          "data": {
            "text/plain": [
              "array([[0., 0., 0., 0., 0.],\n",
              "       [0., 0., 0., 0., 0.],\n",
              "       [0., 0., 0., 0., 0.]])"
            ]
          },
          "metadata": {},
          "execution_count": 6
        }
      ]
    },
    {
      "cell_type": "markdown",
      "source": [
        "### Creating arrays with fixed value"
      ],
      "metadata": {
        "id": "wNtRCQdDrx0e"
      }
    },
    {
      "cell_type": "code",
      "source": [
        "np.full(shape=(3,5),fill_value=5)"
      ],
      "metadata": {
        "colab": {
          "base_uri": "https://localhost:8080/"
        },
        "id": "rd7Aim5qPm0x",
        "outputId": "6b000aed-42f4-4497-a89d-fdb26b31f83a"
      },
      "execution_count": null,
      "outputs": [
        {
          "output_type": "execute_result",
          "data": {
            "text/plain": [
              "array([[5, 5, 5, 5, 5],\n",
              "       [5, 5, 5, 5, 5],\n",
              "       [5, 5, 5, 5, 5]])"
            ]
          },
          "metadata": {},
          "execution_count": 7
        }
      ]
    },
    {
      "cell_type": "markdown",
      "source": [
        "### Creating arrays with a range"
      ],
      "metadata": {
        "id": "HzWUgyZlr5B2"
      }
    },
    {
      "cell_type": "code",
      "source": [
        "np.arange(10)"
      ],
      "metadata": {
        "colab": {
          "base_uri": "https://localhost:8080/"
        },
        "id": "Uv012xIuPtKk",
        "outputId": "c8411c03-6ba6-44bb-99c7-732f5790c7ff"
      },
      "execution_count": null,
      "outputs": [
        {
          "output_type": "execute_result",
          "data": {
            "text/plain": [
              "array([0, 1, 2, 3, 4, 5, 6, 7, 8, 9])"
            ]
          },
          "metadata": {},
          "execution_count": 8
        }
      ]
    },
    {
      "cell_type": "code",
      "source": [
        "np.arange(0,10,2)"
      ],
      "metadata": {
        "colab": {
          "base_uri": "https://localhost:8080/"
        },
        "id": "Fgkh53iSPw7D",
        "outputId": "815b07da-e4a1-4163-fdb9-3f354a03c159"
      },
      "execution_count": null,
      "outputs": [
        {
          "output_type": "execute_result",
          "data": {
            "text/plain": [
              "array([0, 2, 4, 6, 8])"
            ]
          },
          "metadata": {},
          "execution_count": 9
        }
      ]
    },
    {
      "cell_type": "markdown",
      "source": [
        "### Creating arrays with integers"
      ],
      "metadata": {
        "id": "FddbX9fqsEbl"
      }
    },
    {
      "cell_type": "code",
      "source": [
        "np.random.randint(1,6,size=(4,3))"
      ],
      "metadata": {
        "colab": {
          "base_uri": "https://localhost:8080/"
        },
        "id": "5ynl5hEWP1ia",
        "outputId": "148e65e0-73f1-4d3e-941d-114ea3f0b206"
      },
      "execution_count": null,
      "outputs": [
        {
          "output_type": "execute_result",
          "data": {
            "text/plain": [
              "array([[5, 3, 4],\n",
              "       [4, 2, 1],\n",
              "       [2, 4, 2],\n",
              "       [1, 1, 3]])"
            ]
          },
          "metadata": {},
          "execution_count": 10
        }
      ]
    },
    {
      "cell_type": "markdown",
      "source": [
        "## **Special indexing in numpy arrays**"
      ],
      "metadata": {
        "id": "8Sw6m7A0RaY5"
      }
    },
    {
      "cell_type": "markdown",
      "source": [
        "Multiple indexing of a array"
      ],
      "metadata": {
        "id": "zwK4cBfVsUys"
      }
    },
    {
      "cell_type": "code",
      "source": [
        "arr=np.array([1,2,3,4,5,6,7])\n",
        "arr[[0,4,2,0]]"
      ],
      "metadata": {
        "colab": {
          "base_uri": "https://localhost:8080/"
        },
        "id": "kp6KrYPqQP2N",
        "outputId": "5d334ca9-a4a5-4e7f-e2f1-f2858fcd6f99"
      },
      "execution_count": null,
      "outputs": [
        {
          "output_type": "execute_result",
          "data": {
            "text/plain": [
              "array([1, 5, 3, 1])"
            ]
          },
          "metadata": {},
          "execution_count": 11
        }
      ]
    },
    {
      "cell_type": "markdown",
      "source": [
        "Modifying values using multiple indexing"
      ],
      "metadata": {
        "id": "N5b5WeehsZn7"
      }
    },
    {
      "cell_type": "code",
      "source": [
        "arr=np.array([1,2,3,4,5,6,7])\n",
        "\n",
        "arr[[0,4,2]]=[100,200,300]\n",
        "arr"
      ],
      "metadata": {
        "colab": {
          "base_uri": "https://localhost:8080/"
        },
        "id": "fdDQtuziRfvr",
        "outputId": "fbbd8e0c-9b5e-4935-b7ab-3f34a989ce22"
      },
      "execution_count": null,
      "outputs": [
        {
          "output_type": "execute_result",
          "data": {
            "text/plain": [
              "array([100,   2, 300,   4, 200,   6,   7])"
            ]
          },
          "metadata": {},
          "execution_count": 12
        }
      ]
    },
    {
      "cell_type": "markdown",
      "source": [
        "Indexing in 3D arrays"
      ],
      "metadata": {
        "id": "TaqkNabvshIc"
      }
    },
    {
      "cell_type": "code",
      "source": [
        "arr= np.array([\n",
        "               [[1,2,3],\n",
        "                [4,5,6]],\n",
        "               \n",
        "               [[7,8,9],\n",
        "                [10,11,12]\n",
        "                ]\n",
        "               \n",
        "               ])\n"
      ],
      "metadata": {
        "id": "RczFopDOUCYk"
      },
      "execution_count": null,
      "outputs": []
    },
    {
      "cell_type": "code",
      "source": [
        "arr[0,0,0:2]"
      ],
      "metadata": {
        "colab": {
          "base_uri": "https://localhost:8080/"
        },
        "id": "sgvj0ZbuUwW4",
        "outputId": "582b9ccd-15b8-4745-b61e-0c2760cda8f3"
      },
      "execution_count": null,
      "outputs": [
        {
          "output_type": "execute_result",
          "data": {
            "text/plain": [
              "array([1, 2])"
            ]
          },
          "metadata": {},
          "execution_count": 14
        }
      ]
    },
    {
      "cell_type": "markdown",
      "source": [
        "Modifying data in 3d arrays using multiple indexing"
      ],
      "metadata": {
        "id": "qi-hkBFMsmk7"
      }
    },
    {
      "cell_type": "code",
      "source": [
        "arr[0,:,2]=5\n",
        "arr"
      ],
      "metadata": {
        "colab": {
          "base_uri": "https://localhost:8080/"
        },
        "id": "c1t3K_aUUyZs",
        "outputId": "c6afd81c-d050-4352-b31c-25b0c9a110ac"
      },
      "execution_count": null,
      "outputs": [
        {
          "output_type": "execute_result",
          "data": {
            "text/plain": [
              "array([[[ 1,  2,  5],\n",
              "        [ 4,  5,  5]],\n",
              "\n",
              "       [[ 7,  8,  9],\n",
              "        [10, 11, 12]]])"
            ]
          },
          "metadata": {},
          "execution_count": 15
        }
      ]
    },
    {
      "cell_type": "markdown",
      "source": [
        " Indexing 2D arrays using a list of indexes"
      ],
      "metadata": {
        "id": "gc6piaugtG-H"
      }
    },
    {
      "cell_type": "code",
      "source": [
        "arr= np.random.randint(1,4,size=(3,3))\n",
        "arr"
      ],
      "metadata": {
        "colab": {
          "base_uri": "https://localhost:8080/"
        },
        "id": "D3WRKW2IsteV",
        "outputId": "f665b79e-b0aa-4859-eba4-c2816765e0c5"
      },
      "execution_count": null,
      "outputs": [
        {
          "output_type": "execute_result",
          "data": {
            "text/plain": [
              "array([[1, 1, 3],\n",
              "       [3, 3, 2],\n",
              "       [3, 1, 1]])"
            ]
          },
          "metadata": {},
          "execution_count": 16
        }
      ]
    },
    {
      "cell_type": "markdown",
      "source": [
        "**(0th row, 1st col) and (1st row, 2nd col)**"
      ],
      "metadata": {
        "id": "_fHX1XKItNXL"
      }
    },
    {
      "cell_type": "code",
      "source": [
        "print(arr[[0,1],[1,2]])"
      ],
      "metadata": {
        "colab": {
          "base_uri": "https://localhost:8080/"
        },
        "id": "hW11LjCVstap",
        "outputId": "b3c34c52-c8be-48c3-f697-3f0c3050d526"
      },
      "execution_count": null,
      "outputs": [
        {
          "output_type": "stream",
          "name": "stdout",
          "text": [
            "[1 2]\n"
          ]
        }
      ]
    },
    {
      "cell_type": "markdown",
      "source": [
        "## **Broadcasting**"
      ],
      "metadata": {
        "id": "Bhvu0yLUhRtz"
      }
    },
    {
      "cell_type": "markdown",
      "source": [
        "\n",
        "\n",
        "![Screenshot 2022-01-16 114134.png](data:image/png;base64,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)"
      ],
      "metadata": {
        "id": "WgwzeV-egKC-"
      }
    },
    {
      "cell_type": "markdown",
      "source": [
        "### Example 1"
      ],
      "metadata": {
        "id": "V6nlsM4ijZ_M"
      }
    },
    {
      "cell_type": "markdown",
      "source": [
        "As arr2 has a shape of (3,1), since the column has 1 it can be broadcasted."
      ],
      "metadata": {
        "id": "rnqSGahUij13"
      }
    },
    {
      "cell_type": "code",
      "source": [
        "arr1 = np.random.randint(1,5,size=(3,2))\n",
        "arr2 = np.random.randint(1,5,size=(3,1))\n",
        "arr3= arr1+arr2\n",
        "arr3"
      ],
      "metadata": {
        "colab": {
          "base_uri": "https://localhost:8080/"
        },
        "id": "UEaQPZWEVYH-",
        "outputId": "ec4a6dae-cc3b-4f8a-9522-fd7b075c8764"
      },
      "execution_count": null,
      "outputs": [
        {
          "output_type": "execute_result",
          "data": {
            "text/plain": [
              "array([[3, 6],\n",
              "       [3, 4],\n",
              "       [6, 4]])"
            ]
          },
          "metadata": {},
          "execution_count": 18
        }
      ]
    },
    {
      "cell_type": "markdown",
      "source": [
        "### Example 2"
      ],
      "metadata": {
        "id": "NRzBCy53jb4W"
      }
    },
    {
      "cell_type": "code",
      "source": [
        "arr1 = np.random.randint(1,5,size=(3,1,4))\n",
        "arr2 = np.random.randint(1,5,size=(3,1))\n",
        "arr1.shape, arr2.shape"
      ],
      "metadata": {
        "colab": {
          "base_uri": "https://localhost:8080/"
        },
        "id": "OaBkdXtqiNV1",
        "outputId": "58177026-5f2b-4a15-8ca7-97e24a5716e6"
      },
      "execution_count": null,
      "outputs": [
        {
          "output_type": "execute_result",
          "data": {
            "text/plain": [
              "((3, 1, 4), (3, 1))"
            ]
          },
          "metadata": {},
          "execution_count": 19
        }
      ]
    },
    {
      "cell_type": "code",
      "source": [
        "arr3= arr1+arr2\n",
        "arr3"
      ],
      "metadata": {
        "id": "Gkt4K9Wyjfse",
        "colab": {
          "base_uri": "https://localhost:8080/"
        },
        "outputId": "bf1f3735-0420-408c-fafa-2241e835e0d5"
      },
      "execution_count": null,
      "outputs": [
        {
          "output_type": "execute_result",
          "data": {
            "text/plain": [
              "array([[[5, 7, 7, 8],\n",
              "        [4, 6, 6, 7],\n",
              "        [2, 4, 4, 5]],\n",
              "\n",
              "       [[8, 8, 5, 6],\n",
              "        [7, 7, 4, 5],\n",
              "        [5, 5, 2, 3]],\n",
              "\n",
              "       [[5, 6, 7, 5],\n",
              "        [4, 5, 6, 4],\n",
              "        [2, 3, 4, 2]]])"
            ]
          },
          "metadata": {},
          "execution_count": 20
        }
      ]
    },
    {
      "cell_type": "markdown",
      "source": [
        "## **Newaxis**"
      ],
      "metadata": {
        "id": "PqFLxuzIkfL8"
      }
    },
    {
      "cell_type": "code",
      "source": [
        "arr=np.random.randint(1,6,size=(5))\n",
        "arr=arr[:,np.newaxis]\n",
        "arr.shape"
      ],
      "metadata": {
        "colab": {
          "base_uri": "https://localhost:8080/"
        },
        "id": "1xU5V-xVke_a",
        "outputId": "78dd9c45-decd-455d-8cce-487c9b569f2a"
      },
      "execution_count": null,
      "outputs": [
        {
          "output_type": "execute_result",
          "data": {
            "text/plain": [
              "(5, 1)"
            ]
          },
          "metadata": {},
          "execution_count": 21
        }
      ]
    },
    {
      "cell_type": "code",
      "source": [
        "arr=np.random.randint(1,6,size=(5))\n",
        "arr=arr[np.newaxis]\n",
        "arr.shape"
      ],
      "metadata": {
        "colab": {
          "base_uri": "https://localhost:8080/"
        },
        "id": "N89DOB5uW1-X",
        "outputId": "14b66296-d14d-4b07-d85a-d8e5f3984aed"
      },
      "execution_count": null,
      "outputs": [
        {
          "output_type": "execute_result",
          "data": {
            "text/plain": [
              "(1, 5)"
            ]
          },
          "metadata": {},
          "execution_count": 22
        }
      ]
    },
    {
      "cell_type": "markdown",
      "source": [
        "## **Boolean Indexing**"
      ],
      "metadata": {
        "id": "KqOomzr7iW8b"
      }
    },
    {
      "cell_type": "code",
      "source": [
        "arr = np.random.randint(1,5, size=(3,3))\n",
        "arr"
      ],
      "metadata": {
        "colab": {
          "base_uri": "https://localhost:8080/"
        },
        "id": "nqdAL7Exj4XK",
        "outputId": "457bdca6-ae01-4ff9-eb97-eb934f8860ba"
      },
      "execution_count": null,
      "outputs": [
        {
          "output_type": "execute_result",
          "data": {
            "text/plain": [
              "array([[3, 2, 2],\n",
              "       [1, 1, 2],\n",
              "       [1, 4, 3]])"
            ]
          },
          "metadata": {},
          "execution_count": 23
        }
      ]
    },
    {
      "cell_type": "code",
      "source": [
        "mask = arr==3\n",
        "mask"
      ],
      "metadata": {
        "id": "KNuV1vKaCMmX",
        "colab": {
          "base_uri": "https://localhost:8080/"
        },
        "outputId": "f9e35adb-050f-4c01-98ef-8bbd2589df33"
      },
      "execution_count": null,
      "outputs": [
        {
          "output_type": "execute_result",
          "data": {
            "text/plain": [
              "array([[ True, False, False],\n",
              "       [False, False, False],\n",
              "       [False, False,  True]])"
            ]
          },
          "metadata": {},
          "execution_count": 24
        }
      ]
    },
    {
      "cell_type": "code",
      "source": [
        "arr[mask]"
      ],
      "metadata": {
        "colab": {
          "base_uri": "https://localhost:8080/"
        },
        "id": "IKcCR7lmkErD",
        "outputId": "9ec01cee-4b2b-4ab6-f7b2-f35032f8304e"
      },
      "execution_count": null,
      "outputs": [
        {
          "output_type": "execute_result",
          "data": {
            "text/plain": [
              "array([3, 3])"
            ]
          },
          "metadata": {},
          "execution_count": 25
        }
      ]
    },
    {
      "cell_type": "code",
      "source": [
        "arr[mask]=0\n",
        "arr"
      ],
      "metadata": {
        "colab": {
          "base_uri": "https://localhost:8080/"
        },
        "id": "Jv-JFrGLkI69",
        "outputId": "240ea956-0eb6-420b-ba09-1177656da2f4"
      },
      "execution_count": null,
      "outputs": [
        {
          "output_type": "execute_result",
          "data": {
            "text/plain": [
              "array([[0, 2, 2],\n",
              "       [1, 1, 2],\n",
              "       [1, 4, 0]])"
            ]
          },
          "metadata": {},
          "execution_count": 26
        }
      ]
    },
    {
      "cell_type": "markdown",
      "source": [
        "### Using boolean indexing for individual rows and columns"
      ],
      "metadata": {
        "id": "JyMyRh3MlGJJ"
      }
    },
    {
      "cell_type": "code",
      "source": [
        "row_1_and_2= [False,True,True]\n",
        "col_0_and_1= [True,True,False]"
      ],
      "metadata": {
        "id": "yAuOINSokY3_"
      },
      "execution_count": null,
      "outputs": []
    },
    {
      "cell_type": "code",
      "source": [
        "arr = np.random.randint(1,5, size=(3,3))\n",
        "arr"
      ],
      "metadata": {
        "colab": {
          "base_uri": "https://localhost:8080/"
        },
        "id": "mvRAsKUrXITo",
        "outputId": "69e2cfd5-4eb0-4d41-8bed-15ac75e809e8"
      },
      "execution_count": null,
      "outputs": [
        {
          "output_type": "execute_result",
          "data": {
            "text/plain": [
              "array([[2, 3, 1],\n",
              "       [3, 4, 2],\n",
              "       [4, 3, 3]])"
            ]
          },
          "metadata": {},
          "execution_count": 28
        }
      ]
    },
    {
      "cell_type": "markdown",
      "source": [
        "Accessing only the row"
      ],
      "metadata": {
        "id": "uSMXHwMfmCnb"
      }
    },
    {
      "cell_type": "code",
      "source": [
        "arr[row_1_and_2]"
      ],
      "metadata": {
        "colab": {
          "base_uri": "https://localhost:8080/"
        },
        "id": "qQyDeLOFlcuV",
        "outputId": "9f40f9c0-7eca-455d-abc5-5b1b1db3fdc1"
      },
      "execution_count": null,
      "outputs": [
        {
          "output_type": "execute_result",
          "data": {
            "text/plain": [
              "array([[3, 4, 2],\n",
              "       [4, 3, 3]])"
            ]
          },
          "metadata": {},
          "execution_count": 29
        }
      ]
    },
    {
      "cell_type": "markdown",
      "source": [
        "Accessing only the column"
      ],
      "metadata": {
        "id": "vzlMETXymGSj"
      }
    },
    {
      "cell_type": "code",
      "source": [
        "arr[:,col_0_and_1]"
      ],
      "metadata": {
        "colab": {
          "base_uri": "https://localhost:8080/"
        },
        "id": "Zxn6truBlrlx",
        "outputId": "08a2b50d-c89b-477b-f2fd-90960cb86d6a"
      },
      "execution_count": null,
      "outputs": [
        {
          "output_type": "execute_result",
          "data": {
            "text/plain": [
              "array([[2, 3],\n",
              "       [3, 4],\n",
              "       [4, 3]])"
            ]
          },
          "metadata": {},
          "execution_count": 30
        }
      ]
    },
    {
      "cell_type": "markdown",
      "source": [
        "Using combined boolean indexing of row and column"
      ],
      "metadata": {
        "id": "DCP98Tobl9gE"
      }
    },
    {
      "cell_type": "code",
      "source": [
        "arr[row_1_and_2,col_0_and_1]"
      ],
      "metadata": {
        "colab": {
          "base_uri": "https://localhost:8080/"
        },
        "id": "IK8m1gRHl2Pg",
        "outputId": "2ede0613-b3da-4893-f788-fb57f2dbba0e"
      },
      "execution_count": null,
      "outputs": [
        {
          "output_type": "execute_result",
          "data": {
            "text/plain": [
              "array([3, 3])"
            ]
          },
          "metadata": {},
          "execution_count": 31
        }
      ]
    },
    {
      "cell_type": "markdown",
      "source": [
        "Below code is identical to the above boolean indexing"
      ],
      "metadata": {
        "id": "BhWs2NrAmcdn"
      }
    },
    {
      "cell_type": "code",
      "source": [
        "arr[[1,2],[0,1]]"
      ],
      "metadata": {
        "colab": {
          "base_uri": "https://localhost:8080/"
        },
        "id": "wcakWh5imUrx",
        "outputId": "f6e88af4-cf61-4eee-f7e6-1d5c5bd64daa"
      },
      "execution_count": null,
      "outputs": [
        {
          "output_type": "execute_result",
          "data": {
            "text/plain": [
              "array([3, 3])"
            ]
          },
          "metadata": {},
          "execution_count": 32
        }
      ]
    },
    {
      "cell_type": "markdown",
      "source": [
        "### Using bitwise operator with boolean indexing"
      ],
      "metadata": {
        "id": "RqWLVZwNnJen"
      }
    },
    {
      "cell_type": "code",
      "source": [
        "names=np.array(['nikhil','amogh','aaryan','dishanth','suhas'])\n",
        "age=np.array([19,45,34,90,12])\n",
        "gender=np.array(['male','female','female','female','male'])"
      ],
      "metadata": {
        "id": "Nod5FPnHmTHp"
      },
      "execution_count": null,
      "outputs": []
    },
    {
      "cell_type": "code",
      "source": [
        "# people with age greater than 45\n",
        "names[age>45].tolist()"
      ],
      "metadata": {
        "colab": {
          "base_uri": "https://localhost:8080/"
        },
        "id": "nNkEuMXunsYW",
        "outputId": "e9fe3fbb-04b6-4a11-e731-f6212f610cd0"
      },
      "execution_count": null,
      "outputs": [
        {
          "output_type": "execute_result",
          "data": {
            "text/plain": [
              "['dishanth']"
            ]
          },
          "metadata": {},
          "execution_count": 34
        }
      ]
    },
    {
      "cell_type": "code",
      "source": [
        "# females with age less than 30\n",
        "names[(age<30) & (gender=='male')]"
      ],
      "metadata": {
        "colab": {
          "base_uri": "https://localhost:8080/"
        },
        "id": "wbEOTuDln1m0",
        "outputId": "58863aa6-2ef1-4838-8ef3-61ef961d8ed3"
      },
      "execution_count": null,
      "outputs": [
        {
          "output_type": "execute_result",
          "data": {
            "text/plain": [
              "array(['nikhil', 'suhas'], dtype='<U8')"
            ]
          },
          "metadata": {},
          "execution_count": 35
        }
      ]
    },
    {
      "cell_type": "markdown",
      "source": [
        "## **NAN's**"
      ],
      "metadata": {
        "id": "aVtQ0H6oocDu"
      }
    },
    {
      "cell_type": "markdown",
      "source": [
        "**Note** : nan is floating point value used for representing missing values"
      ],
      "metadata": {
        "id": "2twMQryEo5vr"
      }
    },
    {
      "cell_type": "code",
      "source": [
        "arr= np.ones(shape=(3,3))\n",
        "arr[[1,2],[2,2]]=np.nan\n",
        "arr"
      ],
      "metadata": {
        "colab": {
          "base_uri": "https://localhost:8080/"
        },
        "id": "0uFUFXdDoPYG",
        "outputId": "4c328771-005c-47bd-c2b7-09e34a9f150c"
      },
      "execution_count": null,
      "outputs": [
        {
          "output_type": "execute_result",
          "data": {
            "text/plain": [
              "array([[ 1.,  1.,  1.],\n",
              "       [ 1.,  1., nan],\n",
              "       [ 1.,  1., nan]])"
            ]
          },
          "metadata": {},
          "execution_count": 36
        }
      ]
    },
    {
      "cell_type": "markdown",
      "source": [
        "How to check the indexes of nan value ?"
      ],
      "metadata": {
        "id": "dVYNK7WipZg_"
      }
    },
    {
      "cell_type": "code",
      "source": [
        "np.isnan(arr)"
      ],
      "metadata": {
        "colab": {
          "base_uri": "https://localhost:8080/"
        },
        "id": "rYj4HZpYpMRi",
        "outputId": "216efefc-5a60-4840-d7ee-69b374701ca1"
      },
      "execution_count": null,
      "outputs": [
        {
          "output_type": "execute_result",
          "data": {
            "text/plain": [
              "array([[False, False, False],\n",
              "       [False, False,  True],\n",
              "       [False, False,  True]])"
            ]
          },
          "metadata": {},
          "execution_count": 37
        }
      ]
    },
    {
      "cell_type": "markdown",
      "source": [
        "## **Infinity**"
      ],
      "metadata": {
        "id": "7BZMK8aMp5dm"
      }
    },
    {
      "cell_type": "code",
      "source": [
        "arr= np.array([np.inf,np.NINF])\n",
        "arr"
      ],
      "metadata": {
        "colab": {
          "base_uri": "https://localhost:8080/"
        },
        "id": "RgfBK4E4peNH",
        "outputId": "feb721f0-c944-46d6-ae2a-9158084a64c3"
      },
      "execution_count": null,
      "outputs": [
        {
          "output_type": "execute_result",
          "data": {
            "text/plain": [
              "array([ inf, -inf])"
            ]
          },
          "metadata": {},
          "execution_count": 38
        }
      ]
    },
    {
      "cell_type": "code",
      "source": [
        ""
      ],
      "metadata": {
        "id": "6QiyNyK3YbGz"
      },
      "execution_count": null,
      "outputs": []
    },
    {
      "cell_type": "markdown",
      "source": [
        "## **Random**"
      ],
      "metadata": {
        "id": "G01_f4PMYbvA"
      }
    },
    {
      "cell_type": "markdown",
      "source": [
        "seed used for getting same results everytime"
      ],
      "metadata": {
        "id": "L3tpPQRGZSqo"
      }
    },
    {
      "cell_type": "code",
      "source": [
        "np.random.seed(123)\n",
        "np.random.randint(1,7,size=3)"
      ],
      "metadata": {
        "id": "sFOhDPBvqAdB",
        "colab": {
          "base_uri": "https://localhost:8080/"
        },
        "outputId": "519cfdcd-9c30-4141-a223-dd5e4f1b2141"
      },
      "execution_count": null,
      "outputs": [
        {
          "output_type": "execute_result",
          "data": {
            "text/plain": [
              "array([6, 3, 5])"
            ]
          },
          "metadata": {},
          "execution_count": 39
        }
      ]
    },
    {
      "cell_type": "markdown",
      "source": [
        "### Probabilities"
      ],
      "metadata": {
        "id": "AmGuM4WdamZf"
      }
    },
    {
      "cell_type": "markdown",
      "source": [
        "Picking 3 numbers for 1-7 without replacement"
      ],
      "metadata": {
        "id": "7Nsh2eGOZaMU"
      }
    },
    {
      "cell_type": "code",
      "source": [
        "np.random.choice(\n",
        "    \n",
        "    a=np.arange(1,7),\n",
        "    size=3,\n",
        "    replace=False,\n",
        "    p=None\n",
        ")"
      ],
      "metadata": {
        "colab": {
          "base_uri": "https://localhost:8080/"
        },
        "id": "ShZ78BbxYlll",
        "outputId": "20f144d6-77aa-4b27-fec6-2ac5e47d0fa9"
      },
      "execution_count": null,
      "outputs": [
        {
          "output_type": "execute_result",
          "data": {
            "text/plain": [
              "array([1, 5, 6])"
            ]
          },
          "metadata": {},
          "execution_count": 40
        }
      ]
    },
    {
      "cell_type": "markdown",
      "source": [
        "With replacement"
      ],
      "metadata": {
        "id": "KhTN0LeFaQhl"
      }
    },
    {
      "cell_type": "code",
      "source": [
        "\n",
        "np.random.choice(\n",
        "    \n",
        "    a=np.arange(1,7),\n",
        "    size=3,\n",
        "    replace=True,\n",
        "    p=None\n",
        ")"
      ],
      "metadata": {
        "colab": {
          "base_uri": "https://localhost:8080/"
        },
        "id": "l5t4wDRmZ5VH",
        "outputId": "dd09ec5f-d2af-491f-f404-3c411ca19f11"
      },
      "execution_count": null,
      "outputs": [
        {
          "output_type": "execute_result",
          "data": {
            "text/plain": [
              "array([2, 2, 1])"
            ]
          },
          "metadata": {},
          "execution_count": 41
        }
      ]
    },
    {
      "cell_type": "markdown",
      "source": [
        "Using probabilities exclusively"
      ],
      "metadata": {
        "id": "ww8TaRV5bG5G"
      }
    },
    {
      "cell_type": "code",
      "source": [
        "\n",
        "np.random.choice(\n",
        "    \n",
        "    a=np.arange(1,6),\n",
        "    size=3,\n",
        "    replace=True,\n",
        "    p=np.array([0.1,0.1,0.1,0.3,0.4])\n",
        ")"
      ],
      "metadata": {
        "colab": {
          "base_uri": "https://localhost:8080/"
        },
        "id": "9wrHuNNWbFTd",
        "outputId": "c6923efb-49a6-4ded-92b2-687b2b40f041"
      },
      "execution_count": null,
      "outputs": [
        {
          "output_type": "execute_result",
          "data": {
            "text/plain": [
              "array([4, 2, 4])"
            ]
          },
          "metadata": {},
          "execution_count": 42
        }
      ]
    },
    {
      "cell_type": "markdown",
      "source": [
        "Using strings"
      ],
      "metadata": {
        "id": "-ac45msxbCKo"
      }
    },
    {
      "cell_type": "code",
      "source": [
        "np.random.choice(\n",
        "    \n",
        "    a=np.array(['apple','orange','pineapple','gauva','banana']),\n",
        "    size=3,\n",
        "    replace=False,\n",
        "    p=np.array([0.1,0.1,0.1,0.3,0.4])\n",
        ")"
      ],
      "metadata": {
        "colab": {
          "base_uri": "https://localhost:8080/"
        },
        "id": "POkRgTFGaErS",
        "outputId": "6cbb4295-5efd-4d63-fc2c-ae65c59f1286"
      },
      "execution_count": null,
      "outputs": [
        {
          "output_type": "execute_result",
          "data": {
            "text/plain": [
              "array(['banana', 'gauva', 'pineapple'], dtype='<U9')"
            ]
          },
          "metadata": {},
          "execution_count": 43
        }
      ]
    },
    {
      "cell_type": "markdown",
      "source": [
        "### Probability Distribution"
      ],
      "metadata": {
        "id": "ietHT8MGcY3A"
      }
    },
    {
      "cell_type": "code",
      "source": [
        "np.random.uniform(1,2,size=(2,2))"
      ],
      "metadata": {
        "colab": {
          "base_uri": "https://localhost:8080/"
        },
        "id": "2SgdQcCta_lg",
        "outputId": "52b06bd5-be92-47c6-95e6-b2af05c5d1b8"
      },
      "execution_count": null,
      "outputs": [
        {
          "output_type": "execute_result",
          "data": {
            "text/plain": [
              "array([[1.69475518, 1.5939024 ],\n",
              "       [1.63179202, 1.44025718]])"
            ]
          },
          "metadata": {},
          "execution_count": 44
        }
      ]
    },
    {
      "cell_type": "code",
      "source": [
        "np.random.normal(loc=0.0,scale=1.0,size=(2))"
      ],
      "metadata": {
        "colab": {
          "base_uri": "https://localhost:8080/"
        },
        "id": "408YF0oAcrVn",
        "outputId": "ae84c748-4f39-4a72-c6a7-5e717df242cb"
      },
      "execution_count": null,
      "outputs": [
        {
          "output_type": "execute_result",
          "data": {
            "text/plain": [
              "array([ 0.23634688, -0.46335828])"
            ]
          },
          "metadata": {},
          "execution_count": 45
        }
      ]
    },
    {
      "cell_type": "markdown",
      "source": [
        "Creating our own random number generator class"
      ],
      "metadata": {
        "id": "lqJlrQIfeSPu"
      }
    },
    {
      "cell_type": "code",
      "source": [
        "generator = np.random.default_rng(seed=123)"
      ],
      "metadata": {
        "id": "iQ7x39Yvdg1K"
      },
      "execution_count": null,
      "outputs": []
    },
    {
      "cell_type": "code",
      "source": [
        "generator.integers(1,5,size=(3))"
      ],
      "metadata": {
        "colab": {
          "base_uri": "https://localhost:8080/"
        },
        "id": "rkWllAb1fBju",
        "outputId": "977eb50a-0101-4cbe-aa83-47073f7a5e29"
      },
      "execution_count": null,
      "outputs": [
        {
          "output_type": "execute_result",
          "data": {
            "text/plain": [
              "array([1, 3, 3])"
            ]
          },
          "metadata": {},
          "execution_count": 47
        }
      ]
    },
    {
      "cell_type": "code",
      "source": [
        "generator.choice(\n",
        "    a=np.arange(9),\n",
        "    size=3,\n",
        "    replace=False\n",
        "\n",
        ")"
      ],
      "metadata": {
        "colab": {
          "base_uri": "https://localhost:8080/"
        },
        "id": "jsgGhOKben3l",
        "outputId": "e707b4ca-f828-41cb-c481-80e55744d3c9"
      },
      "execution_count": null,
      "outputs": [
        {
          "output_type": "execute_result",
          "data": {
            "text/plain": [
              "array([7, 1, 0])"
            ]
          },
          "metadata": {},
          "execution_count": 48
        }
      ]
    },
    {
      "cell_type": "markdown",
      "source": [
        "## **Where** -> equivalent to if-else in python"
      ],
      "metadata": {
        "id": "6Or5wtKkyft-"
      }
    },
    {
      "cell_type": "code",
      "source": [
        "arr= np.array([2,3,4,5,6,8])\n",
        "arr=np.where(arr%2==0,1,0)\n",
        "arr"
      ],
      "metadata": {
        "colab": {
          "base_uri": "https://localhost:8080/"
        },
        "id": "yIjclShXe_BA",
        "outputId": "777def25-4bd6-4f7a-e6fb-ab0e9a28fe73"
      },
      "execution_count": null,
      "outputs": [
        {
          "output_type": "execute_result",
          "data": {
            "text/plain": [
              "array([1, 0, 1, 0, 1, 1])"
            ]
          },
          "metadata": {},
          "execution_count": 49
        }
      ]
    },
    {
      "cell_type": "markdown",
      "source": [
        "## **Math functions**"
      ],
      "metadata": {
        "id": "mMmu-ymjziu5"
      }
    },
    {
      "cell_type": "code",
      "source": [
        "arr= np.random.randint(1,7,size=(2,3))"
      ],
      "metadata": {
        "id": "vD1rQ0eUy6zb"
      },
      "execution_count": null,
      "outputs": []
    },
    {
      "cell_type": "code",
      "source": [
        "arr.sum()"
      ],
      "metadata": {
        "colab": {
          "base_uri": "https://localhost:8080/"
        },
        "id": "CkcqrlFdztK4",
        "outputId": "4847db92-aab4-4e6f-bd2a-277c021d4e84"
      },
      "execution_count": null,
      "outputs": [
        {
          "output_type": "execute_result",
          "data": {
            "text/plain": [
              "19"
            ]
          },
          "metadata": {},
          "execution_count": 51
        }
      ]
    },
    {
      "cell_type": "markdown",
      "source": [
        "Summing along rows"
      ],
      "metadata": {
        "id": "xHsCO5qu0F7K"
      }
    },
    {
      "cell_type": "code",
      "source": [
        "arr.sum(axis=1)"
      ],
      "metadata": {
        "colab": {
          "base_uri": "https://localhost:8080/"
        },
        "id": "7M_g2hSjzv5V",
        "outputId": "7e0abc23-2bd2-4890-c78c-a91038e0528c"
      },
      "execution_count": null,
      "outputs": [
        {
          "output_type": "execute_result",
          "data": {
            "text/plain": [
              "array([ 8, 11])"
            ]
          },
          "metadata": {},
          "execution_count": 52
        }
      ]
    },
    {
      "cell_type": "markdown",
      "source": [
        "Summing along columns"
      ],
      "metadata": {
        "id": "t4rd93Ry0LCF"
      }
    },
    {
      "cell_type": "code",
      "source": [
        "arr.sum(axis=0)"
      ],
      "metadata": {
        "colab": {
          "base_uri": "https://localhost:8080/"
        },
        "id": "MZMqgaC20FKh",
        "outputId": "f660cd0f-1a4b-4d56-d23e-c19472b60fc0"
      },
      "execution_count": null,
      "outputs": [
        {
          "output_type": "execute_result",
          "data": {
            "text/plain": [
              "array([ 3, 10,  6])"
            ]
          },
          "metadata": {},
          "execution_count": 53
        }
      ]
    },
    {
      "cell_type": "markdown",
      "source": [
        "### Dealing with nan's"
      ],
      "metadata": {
        "id": "UqbxdaBL0i-T"
      }
    },
    {
      "cell_type": "code",
      "source": [
        "arr2=np.array([\n",
        "      [2.0,3.0,4.0],\n",
        "      [8.0,23.0,12.0]\n",
        "      ])\n",
        "  \n",
        "  "
      ],
      "metadata": {
        "id": "QvUJKx3B0KXE"
      },
      "execution_count": null,
      "outputs": []
    },
    {
      "cell_type": "code",
      "source": [
        "arr2[0,0]=np.nan"
      ],
      "metadata": {
        "id": "GxVPl4Zo0qaD"
      },
      "execution_count": null,
      "outputs": []
    },
    {
      "cell_type": "code",
      "source": [
        "arr2"
      ],
      "metadata": {
        "colab": {
          "base_uri": "https://localhost:8080/"
        },
        "id": "pwx6dIIy1Pu0",
        "outputId": "68951f64-6da9-444c-b1ef-7f7ac678720e"
      },
      "execution_count": null,
      "outputs": [
        {
          "output_type": "execute_result",
          "data": {
            "text/plain": [
              "array([[nan,  3.,  4.],\n",
              "       [ 8., 23., 12.]])"
            ]
          },
          "metadata": {},
          "execution_count": 56
        }
      ]
    },
    {
      "cell_type": "markdown",
      "source": [
        "Option 1"
      ],
      "metadata": {
        "id": "d22ljsLw2zUl"
      }
    },
    {
      "cell_type": "code",
      "source": [
        "np.sum(arr2, where= ~np.isnan(arr2))"
      ],
      "metadata": {
        "id": "-cZRJBa11VTm",
        "colab": {
          "base_uri": "https://localhost:8080/"
        },
        "outputId": "541c947b-f9ae-4227-f6e5-b4b362f00f31"
      },
      "execution_count": null,
      "outputs": [
        {
          "output_type": "execute_result",
          "data": {
            "text/plain": [
              "50.0"
            ]
          },
          "metadata": {},
          "execution_count": 57
        }
      ]
    },
    {
      "cell_type": "markdown",
      "source": [
        "Option 2"
      ],
      "metadata": {
        "id": "9p-KXO6m22bd"
      }
    },
    {
      "cell_type": "code",
      "source": [
        "np.nan_to_num(arr2).sum()"
      ],
      "metadata": {
        "id": "vL2fTahU1odT",
        "colab": {
          "base_uri": "https://localhost:8080/"
        },
        "outputId": "393d92b6-9675-4f70-8011-e5728c75fa17"
      },
      "execution_count": null,
      "outputs": [
        {
          "output_type": "execute_result",
          "data": {
            "text/plain": [
              "50.0"
            ]
          },
          "metadata": {},
          "execution_count": 58
        }
      ]
    },
    {
      "cell_type": "markdown",
      "source": [
        "Option 3"
      ],
      "metadata": {
        "id": "Ggs-Raft23cn"
      }
    },
    {
      "cell_type": "code",
      "source": [
        "np.nansum(arr2)"
      ],
      "metadata": {
        "id": "Mj5UPt6F2d4F",
        "colab": {
          "base_uri": "https://localhost:8080/"
        },
        "outputId": "0a032880-bab8-4219-bd65-2680684065e3"
      },
      "execution_count": null,
      "outputs": [
        {
          "output_type": "execute_result",
          "data": {
            "text/plain": [
              "50.0"
            ]
          },
          "metadata": {},
          "execution_count": 59
        }
      ]
    },
    {
      "cell_type": "markdown",
      "source": [
        "## **np.cancatenate**"
      ],
      "metadata": {
        "id": "kggyFBGE4lNl"
      }
    },
    {
      "cell_type": "code",
      "source": [
        "arr= np.zeros(shape=(3,3))\n",
        "arr"
      ],
      "metadata": {
        "colab": {
          "base_uri": "https://localhost:8080/"
        },
        "id": "zINIUrri2vI7",
        "outputId": "5bdd88ac-d964-4ac1-fc33-e898bdc51644"
      },
      "execution_count": null,
      "outputs": [
        {
          "output_type": "execute_result",
          "data": {
            "text/plain": [
              "array([[0., 0., 0.],\n",
              "       [0., 0., 0.],\n",
              "       [0., 0., 0.]])"
            ]
          },
          "metadata": {},
          "execution_count": 60
        }
      ]
    },
    {
      "cell_type": "code",
      "source": [
        "arr2=np.zeros(shape=(2,3))\n",
        "arr2"
      ],
      "metadata": {
        "colab": {
          "base_uri": "https://localhost:8080/"
        },
        "id": "8BzZ0G5q40mo",
        "outputId": "233295c9-7729-4abb-c328-fa7aeb9424c5"
      },
      "execution_count": null,
      "outputs": [
        {
          "output_type": "execute_result",
          "data": {
            "text/plain": [
              "array([[0., 0., 0.],\n",
              "       [0., 0., 0.]])"
            ]
          },
          "metadata": {},
          "execution_count": 61
        }
      ]
    },
    {
      "cell_type": "markdown",
      "source": [
        "Cancatenating via columns"
      ],
      "metadata": {
        "id": "bpzFIpZm57rY"
      }
    },
    {
      "cell_type": "code",
      "source": [
        "np.concatenate((arr,arr2),axis=0)"
      ],
      "metadata": {
        "colab": {
          "base_uri": "https://localhost:8080/"
        },
        "id": "IKSEaCQX5C1B",
        "outputId": "fc2f7c23-41f3-480c-d4da-2af465649aa4"
      },
      "execution_count": null,
      "outputs": [
        {
          "output_type": "execute_result",
          "data": {
            "text/plain": [
              "array([[0., 0., 0.],\n",
              "       [0., 0., 0.],\n",
              "       [0., 0., 0.],\n",
              "       [0., 0., 0.],\n",
              "       [0., 0., 0.]])"
            ]
          },
          "metadata": {},
          "execution_count": 62
        }
      ]
    },
    {
      "cell_type": "markdown",
      "source": [
        "Cancatenating via rows"
      ],
      "metadata": {
        "id": "QgDyUaf753ud"
      }
    },
    {
      "cell_type": "code",
      "source": [
        "arr3= np.zeros(shape=(3,3))\n",
        "arr3"
      ],
      "metadata": {
        "colab": {
          "base_uri": "https://localhost:8080/"
        },
        "id": "EvgoamNp5aAo",
        "outputId": "87d1925b-a8d4-4cd3-b0c9-f9122b882e0e"
      },
      "execution_count": null,
      "outputs": [
        {
          "output_type": "execute_result",
          "data": {
            "text/plain": [
              "array([[0., 0., 0.],\n",
              "       [0., 0., 0.],\n",
              "       [0., 0., 0.]])"
            ]
          },
          "metadata": {},
          "execution_count": 63
        }
      ]
    },
    {
      "cell_type": "code",
      "source": [
        "arr4=np.zeros(shape=(3,2))\n",
        "arr4"
      ],
      "metadata": {
        "colab": {
          "base_uri": "https://localhost:8080/"
        },
        "id": "TIJG6yf55v3n",
        "outputId": "ed857d49-3fd9-480d-e322-bd41f6b65962"
      },
      "execution_count": null,
      "outputs": [
        {
          "output_type": "execute_result",
          "data": {
            "text/plain": [
              "array([[0., 0.],\n",
              "       [0., 0.],\n",
              "       [0., 0.]])"
            ]
          },
          "metadata": {},
          "execution_count": 64
        }
      ]
    },
    {
      "cell_type": "code",
      "source": [
        "np.concatenate((arr3,arr4),axis=1)"
      ],
      "metadata": {
        "colab": {
          "base_uri": "https://localhost:8080/"
        },
        "id": "PWqoiHos5_sW",
        "outputId": "f568b253-5eda-4d1b-d7d8-192e956d9e8f"
      },
      "execution_count": null,
      "outputs": [
        {
          "output_type": "execute_result",
          "data": {
            "text/plain": [
              "array([[0., 0., 0., 0., 0.],\n",
              "       [0., 0., 0., 0., 0.],\n",
              "       [0., 0., 0., 0., 0.]])"
            ]
          },
          "metadata": {},
          "execution_count": 65
        }
      ]
    },
    {
      "cell_type": "markdown",
      "source": [
        "## **np.stack()**"
      ],
      "metadata": {
        "id": "i1QHD0AfiuUT"
      }
    },
    {
      "cell_type": "markdown",
      "source": [
        "#### **vstack()**"
      ],
      "metadata": {
        "id": "tRl95_ewizVC"
      }
    },
    {
      "cell_type": "code",
      "source": [
        "foo=np.array(['apple','mango'])\n",
        "loo=np.array(['strawberry','mulberry'])\n",
        "uoo=np.array([['pineapple','greenapple'],['watermelon','papaya']])\n",
        "moo=np.array([['avacodo','cherry'],['dragonfruit','gauva']])\n"
      ],
      "metadata": {
        "id": "xMUtVYTaiuJ4"
      },
      "execution_count": null,
      "outputs": []
    },
    {
      "cell_type": "code",
      "source": [
        "np.vstack((foo,loo))"
      ],
      "metadata": {
        "colab": {
          "base_uri": "https://localhost:8080/"
        },
        "id": "0fbz3HNqiuGv",
        "outputId": "013c56c1-cf10-4262-da27-2e13087ab18c"
      },
      "execution_count": null,
      "outputs": [
        {
          "output_type": "execute_result",
          "data": {
            "text/plain": [
              "array([['apple', 'mango'],\n",
              "       ['strawberry', 'mulberry']], dtype='<U10')"
            ]
          },
          "metadata": {},
          "execution_count": 68
        }
      ]
    },
    {
      "cell_type": "code",
      "source": [
        "np.vstack((foo,uoo))"
      ],
      "metadata": {
        "id": "U1XNoH4c6Fqv",
        "colab": {
          "base_uri": "https://localhost:8080/"
        },
        "outputId": "cc7da283-518c-422d-c124-749e0fadbc26"
      },
      "execution_count": null,
      "outputs": [
        {
          "output_type": "execute_result",
          "data": {
            "text/plain": [
              "array([['apple', 'mango'],\n",
              "       ['pineapple', 'greenapple'],\n",
              "       ['watermelon', 'papaya']], dtype='<U10')"
            ]
          },
          "metadata": {},
          "execution_count": 69
        }
      ]
    },
    {
      "cell_type": "markdown",
      "source": [
        "#### **hstack()**"
      ],
      "metadata": {
        "id": "6bscDhXPjnne"
      }
    },
    {
      "cell_type": "code",
      "source": [
        "np.hstack((foo,loo))"
      ],
      "metadata": {
        "colab": {
          "base_uri": "https://localhost:8080/"
        },
        "id": "Sw6SvlUUitEe",
        "outputId": "cd160223-309f-4da4-8a05-9bf86f14a1ef"
      },
      "execution_count": null,
      "outputs": [
        {
          "output_type": "execute_result",
          "data": {
            "text/plain": [
              "array(['apple', 'mango', 'strawberry', 'mulberry'], dtype='<U10')"
            ]
          },
          "metadata": {},
          "execution_count": 71
        }
      ]
    },
    {
      "cell_type": "code",
      "source": [
        "np.hstack((uoo,moo))"
      ],
      "metadata": {
        "colab": {
          "base_uri": "https://localhost:8080/"
        },
        "id": "voRo6a6ljvuQ",
        "outputId": "a80c766a-478b-428f-d95d-ce598dd22108"
      },
      "execution_count": null,
      "outputs": [
        {
          "output_type": "execute_result",
          "data": {
            "text/plain": [
              "array([['pineapple', 'greenapple', 'avacodo', 'cherry'],\n",
              "       ['watermelon', 'papaya', 'dragonfruit', 'gauva']], dtype='<U11')"
            ]
          },
          "metadata": {},
          "execution_count": 73
        }
      ]
    },
    {
      "cell_type": "markdown",
      "source": [
        "#### **stack()**"
      ],
      "metadata": {
        "id": "x3badQ6Pk4yy"
      }
    },
    {
      "cell_type": "code",
      "source": [
        "np.stack((foo,loo),axis=0)"
      ],
      "metadata": {
        "colab": {
          "base_uri": "https://localhost:8080/"
        },
        "id": "IJKVzeJLkCQF",
        "outputId": "2a552266-af5b-4578-e4cd-aded34f3dc8b"
      },
      "execution_count": null,
      "outputs": [
        {
          "output_type": "execute_result",
          "data": {
            "text/plain": [
              "array([['apple', 'mango'],\n",
              "       ['strawberry', 'mulberry']], dtype='<U10')"
            ]
          },
          "metadata": {},
          "execution_count": 74
        }
      ]
    },
    {
      "cell_type": "code",
      "source": [
        "np.stack((foo,loo),axis=1)"
      ],
      "metadata": {
        "colab": {
          "base_uri": "https://localhost:8080/"
        },
        "id": "4JztY_LglC9U",
        "outputId": "c3fb25f2-5a26-4bbb-e374-ce1d668454d8"
      },
      "execution_count": null,
      "outputs": [
        {
          "output_type": "execute_result",
          "data": {
            "text/plain": [
              "array([['apple', 'strawberry'],\n",
              "       ['mango', 'mulberry']], dtype='<U10')"
            ]
          },
          "metadata": {},
          "execution_count": 75
        }
      ]
    },
    {
      "cell_type": "code",
      "source": [
        "foo.shape"
      ],
      "metadata": {
        "colab": {
          "base_uri": "https://localhost:8080/"
        },
        "id": "wey6o2Bplc89",
        "outputId": "82e2e66c-ed81-4c2b-e315-6215911500e0"
      },
      "execution_count": null,
      "outputs": [
        {
          "output_type": "execute_result",
          "data": {
            "text/plain": [
              "(2,)"
            ]
          },
          "metadata": {},
          "execution_count": 78
        }
      ]
    },
    {
      "cell_type": "markdown",
      "source": [
        "## **Sorting**"
      ],
      "metadata": {
        "id": "-9kjiRG8mPwq"
      }
    },
    {
      "cell_type": "code",
      "source": [
        "arr=np.array([1,2,np.nan,5,4,3])\n",
        "arr.sort()\n",
        "arr"
      ],
      "metadata": {
        "colab": {
          "base_uri": "https://localhost:8080/"
        },
        "id": "gNB4x7Y9mRsB",
        "outputId": "943a5467-7597-4c11-f1c3-6e9a2a58bf4e"
      },
      "execution_count": null,
      "outputs": [
        {
          "output_type": "execute_result",
          "data": {
            "text/plain": [
              "array([ 1.,  2.,  3.,  4.,  5., nan])"
            ]
          },
          "metadata": {},
          "execution_count": 86
        }
      ]
    },
    {
      "cell_type": "code",
      "source": [
        "arr=np.random.randint(1,50,size=(3,3))\n",
        "arr"
      ],
      "metadata": {
        "colab": {
          "base_uri": "https://localhost:8080/"
        },
        "id": "0-MmxDkVokib",
        "outputId": "df94393f-ad4e-4cf8-9911-cea9d39147c7"
      },
      "execution_count": null,
      "outputs": [
        {
          "output_type": "execute_result",
          "data": {
            "text/plain": [
              "array([[14, 19, 37],\n",
              "       [16, 44, 28],\n",
              "       [45, 31,  7]])"
            ]
          },
          "metadata": {},
          "execution_count": 99
        }
      ]
    },
    {
      "cell_type": "code",
      "source": [
        "arr.sort(axis=0)\n",
        "arr"
      ],
      "metadata": {
        "colab": {
          "base_uri": "https://localhost:8080/"
        },
        "id": "cPgRkh7FmcBI",
        "outputId": "8d2f954a-a84f-4287-f19d-52732f9c2118"
      },
      "execution_count": null,
      "outputs": [
        {
          "output_type": "execute_result",
          "data": {
            "text/plain": [
              "array([[ 6,  1, 12],\n",
              "       [35,  4, 23],\n",
              "       [41, 11, 43]])"
            ]
          },
          "metadata": {},
          "execution_count": 92
        }
      ]
    },
    {
      "cell_type": "code",
      "source": [
        "arr.sort(axis=1)\n",
        "arr"
      ],
      "metadata": {
        "colab": {
          "base_uri": "https://localhost:8080/"
        },
        "id": "OHqy9h8cow16",
        "outputId": "79512c91-62f6-47d9-845a-5e678f2a456e"
      },
      "execution_count": null,
      "outputs": [
        {
          "output_type": "execute_result",
          "data": {
            "text/plain": [
              "array([[ 1,  6, 12],\n",
              "       [ 4, 23, 35],\n",
              "       [11, 41, 43]])"
            ]
          },
          "metadata": {},
          "execution_count": 93
        }
      ]
    },
    {
      "cell_type": "markdown",
      "source": [
        "### **argsort**"
      ],
      "metadata": {
        "id": "A041PAh5zSfC"
      }
    },
    {
      "cell_type": "code",
      "source": [
        "arr3= np.random.randint(1,8,size=(7))\n",
        "arr3"
      ],
      "metadata": {
        "colab": {
          "base_uri": "https://localhost:8080/"
        },
        "id": "_pW6BbB60HNG",
        "outputId": "ca0b53e2-b25a-47d6-a49c-1935d59fd23b"
      },
      "execution_count": 13,
      "outputs": [
        {
          "output_type": "execute_result",
          "data": {
            "text/plain": [
              "array([3, 1, 6, 7, 2, 2, 6])"
            ]
          },
          "metadata": {},
          "execution_count": 13
        }
      ]
    },
    {
      "cell_type": "code",
      "source": [
        "idx=np.argsort(arr3)"
      ],
      "metadata": {
        "id": "hkJSVFp-0M9B"
      },
      "execution_count": 15,
      "outputs": []
    },
    {
      "cell_type": "code",
      "source": [
        "arr3[idx]"
      ],
      "metadata": {
        "colab": {
          "base_uri": "https://localhost:8080/"
        },
        "id": "kUZMFAe90UML",
        "outputId": "bd778175-8bd7-485e-feba-97f996f72f35"
      },
      "execution_count": 16,
      "outputs": [
        {
          "output_type": "execute_result",
          "data": {
            "text/plain": [
              "array([1, 2, 2, 3, 6, 6, 7])"
            ]
          },
          "metadata": {},
          "execution_count": 16
        }
      ]
    },
    {
      "cell_type": "markdown",
      "source": [
        "Sorting rows based on first element of each row"
      ],
      "metadata": {
        "id": "l6w_6g1yo86b"
      }
    },
    {
      "cell_type": "code",
      "source": [
        "arr2= np.random.randint(1,8,size=(3,3))\n",
        "indexes2=np.argsort(arr2[:,0])\n",
        "arr2[indexes2]\n"
      ],
      "metadata": {
        "colab": {
          "base_uri": "https://localhost:8080/"
        },
        "id": "mj-uZLNpzXeM",
        "outputId": "65ec8ee4-2a82-4636-8fa7-b0d2537c7f0f"
      },
      "execution_count": 12,
      "outputs": [
        {
          "output_type": "execute_result",
          "data": {
            "text/plain": [
              "array([[1, 2, 5],\n",
              "       [4, 3, 5],\n",
              "       [6, 2, 6]])"
            ]
          },
          "metadata": {},
          "execution_count": 12
        }
      ]
    },
    {
      "cell_type": "code",
      "source": [
        "arr[np.argsort(arr[:,0])]"
      ],
      "metadata": {
        "colab": {
          "base_uri": "https://localhost:8080/"
        },
        "id": "4iU_4oU7o2Wz",
        "outputId": "f6271eef-9ce1-44dd-a5ae-9b27bbf7ddf8"
      },
      "execution_count": null,
      "outputs": [
        {
          "output_type": "execute_result",
          "data": {
            "text/plain": [
              "array([[ 1,  6, 12],\n",
              "       [ 4, 23, 35],\n",
              "       [11, 41, 43]])"
            ]
          },
          "metadata": {},
          "execution_count": 97
        }
      ]
    },
    {
      "cell_type": "markdown",
      "source": [
        "Sorting rows based on second element of each row"
      ],
      "metadata": {
        "id": "Pz2NU_UvpwJz"
      }
    },
    {
      "cell_type": "code",
      "source": [
        "arr[np.argsort(arr[:,1])]"
      ],
      "metadata": {
        "colab": {
          "base_uri": "https://localhost:8080/"
        },
        "id": "g8O5ctpHpDz3",
        "outputId": "6596f202-8a80-4d58-e475-5556574f783d"
      },
      "execution_count": null,
      "outputs": [
        {
          "output_type": "execute_result",
          "data": {
            "text/plain": [
              "array([[14, 19, 37],\n",
              "       [45, 31,  7],\n",
              "       [16, 44, 28]])"
            ]
          },
          "metadata": {},
          "execution_count": 100
        }
      ]
    },
    {
      "cell_type": "markdown",
      "source": [
        "## **unique()**"
      ],
      "metadata": {
        "id": "orLDIxABrRgG"
      }
    },
    {
      "cell_type": "code",
      "source": [
        "narr=np.array(['b','b','a','a','c','d','c'])"
      ],
      "metadata": {
        "id": "L4qaxvDerThg"
      },
      "execution_count": 18,
      "outputs": []
    },
    {
      "cell_type": "code",
      "source": [
        "vals, idx =np.unique(narr,return_index=True)\n",
        "vals,idx"
      ],
      "metadata": {
        "colab": {
          "base_uri": "https://localhost:8080/"
        },
        "id": "T-cR302lrkFt",
        "outputId": "3d4381d9-0df9-442e-ea77-9a24dffc2e1a"
      },
      "execution_count": 19,
      "outputs": [
        {
          "output_type": "execute_result",
          "data": {
            "text/plain": [
              "(array(['a', 'b', 'c', 'd'], dtype='<U1'), array([2, 0, 4, 5]))"
            ]
          },
          "metadata": {},
          "execution_count": 19
        }
      ]
    },
    {
      "cell_type": "code",
      "source": [
        "idx.sort()\n",
        "narr[idx]"
      ],
      "metadata": {
        "colab": {
          "base_uri": "https://localhost:8080/"
        },
        "id": "gB_di4MzxZty",
        "outputId": "c13ee923-71fb-4aea-f1e0-94e073c5fa67"
      },
      "execution_count": 24,
      "outputs": [
        {
          "output_type": "execute_result",
          "data": {
            "text/plain": [
              "array(['b', 'a', 'c', 'd'], dtype='<U1')"
            ]
          },
          "metadata": {},
          "execution_count": 24
        }
      ]
    }
  ]
}