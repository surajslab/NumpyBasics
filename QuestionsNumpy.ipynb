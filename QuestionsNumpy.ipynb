{
  "nbformat": 4,
  "nbformat_minor": 0,
  "metadata": {
    "colab": {
      "name": "QuestionsNumpy.ipynb",
      "provenance": [],
      "authorship_tag": "ABX9TyOeWqPlnlMmTzskJV4e6+tl",
      "include_colab_link": true
    },
    "kernelspec": {
      "name": "python3",
      "display_name": "Python 3"
    },
    "language_info": {
      "name": "python"
    }
  },
  "cells": [
    {
      "cell_type": "markdown",
      "metadata": {
        "id": "view-in-github",
        "colab_type": "text"
      },
      "source": [
        "<a href=\"https://colab.research.google.com/github/surajslab/NumpyBasics/blob/main/QuestionsNumpy.ipynb\" target=\"_parent\"><img src=\"https://colab.research.google.com/assets/colab-badge.svg\" alt=\"Open In Colab\"/></a>"
      ]
    },
    {
      "cell_type": "code",
      "execution_count": 1,
      "metadata": {
        "id": "bqXVrSvL-05R"
      },
      "outputs": [],
      "source": [
        "import numpy as np"
      ]
    },
    {
      "cell_type": "markdown",
      "source": [
        "# **Q1**\n",
        "With your high school reunion fast approaching, you decide to get in shape and lose some weight. You record your weight every day for five weeks starting on a Monday. Given these daily weights, build an array with your average weight per weekend(saturday and sunday).\n",
        "\n"
      ],
      "metadata": {
        "id": "ROI0hRH9AaR3"
      }
    },
    {
      "cell_type": "code",
      "source": [
        "weights= 185-np.arange(5*7)/5\n",
        "weights"
      ],
      "metadata": {
        "colab": {
          "base_uri": "https://localhost:8080/"
        },
        "id": "aCvagsKq_LQD",
        "outputId": "157f38b2-8bdf-49ec-e0fd-3dfcdeaddf8e"
      },
      "execution_count": null,
      "outputs": [
        {
          "output_type": "execute_result",
          "data": {
            "text/plain": [
              "array([185. , 184.8, 184.6, 184.4, 184.2, 184. , 183.8, 183.6, 183.4,\n",
              "       183.2, 183. , 182.8, 182.6, 182.4, 182.2, 182. , 181.8, 181.6,\n",
              "       181.4, 181.2, 181. , 180.8, 180.6, 180.4, 180.2, 180. , 179.8,\n",
              "       179.6, 179.4, 179.2, 179. , 178.8, 178.6, 178.4, 178.2])"
            ]
          },
          "metadata": {},
          "execution_count": 3
        }
      ]
    },
    {
      "cell_type": "markdown",
      "source": [
        "## Solution"
      ],
      "metadata": {
        "id": "dKT5gAhnAgNR"
      }
    },
    {
      "cell_type": "code",
      "source": [
        "(weights[5::7]+weights[6::7])/2"
      ],
      "metadata": {
        "colab": {
          "base_uri": "https://localhost:8080/"
        },
        "id": "qm2noPez_Npt",
        "outputId": "61d73193-e97d-455d-973c-b172e9817f47"
      },
      "execution_count": null,
      "outputs": [
        {
          "output_type": "execute_result",
          "data": {
            "text/plain": [
              "array([183.9, 182.5, 181.1, 179.7, 178.3])"
            ]
          },
          "metadata": {},
          "execution_count": 14
        }
      ]
    },
    {
      "cell_type": "code",
      "source": [
        ""
      ],
      "metadata": {
        "id": "1iRMK7ItAxyY"
      },
      "execution_count": null,
      "outputs": []
    },
    {
      "cell_type": "markdown",
      "source": [
        "# **Q2**\n",
        "After binge watching the discovery channel, you ditch your job as a trial lawyer to become a gold miner. You decide to prospect five locations underneath a 7x7 grid of land. How much gold do you uncover at each location?"
      ],
      "metadata": {
        "id": "dW54LrwmA29D"
      }
    },
    {
      "cell_type": "code",
      "source": [
        "import numpy as np\n",
        "\n",
        "np.random.seed(5555)\n",
        "gold = np.random.randint(low=0, high=10, size=(7,7))\n",
        "print(gold)"
      ],
      "metadata": {
        "colab": {
          "base_uri": "https://localhost:8080/"
        },
        "id": "Ffk8uWgJC5S-",
        "outputId": "b49ff087-b8c1-4302-e073-14c9a6bfdc91"
      },
      "execution_count": null,
      "outputs": [
        {
          "output_type": "stream",
          "name": "stdout",
          "text": [
            "[[2 3 0 5 2 0 3]\n",
            " [8 8 0 7 1 5 3]\n",
            " [0 1 6 2 1 4 5]\n",
            " [4 0 8 9 9 8 7]\n",
            " [4 2 7 0 7 2 1]\n",
            " [9 8 9 2 5 0 8]\n",
            " [1 9 8 2 6 4 3]]\n"
          ]
        }
      ]
    },
    {
      "cell_type": "code",
      "source": [
        "locs = np.array([\n",
        "    [0,4],\n",
        "    [2,2],\n",
        "    [2,3],\n",
        "    [5,1],\n",
        "    [6,3]\n",
        "])"
      ],
      "metadata": {
        "id": "4lVw5lP3C9ep"
      },
      "execution_count": null,
      "outputs": []
    },
    {
      "cell_type": "markdown",
      "source": [
        "## Solution"
      ],
      "metadata": {
        "id": "I6uCZdHYC29i"
      }
    },
    {
      "cell_type": "code",
      "source": [
        "gold[[0,2,2,5,6],[4,2,3,1,3]]"
      ],
      "metadata": {
        "colab": {
          "base_uri": "https://localhost:8080/"
        },
        "id": "owK0cLcvA2lb",
        "outputId": "d6b7d676-15dc-480b-9312-1eb41f97fc68"
      },
      "execution_count": null,
      "outputs": [
        {
          "output_type": "execute_result",
          "data": {
            "text/plain": [
              "array([2, 6, 2, 8, 2])"
            ]
          },
          "metadata": {},
          "execution_count": 20
        }
      ]
    },
    {
      "cell_type": "code",
      "source": [
        "gold[locs[:,0],locs[:,1]]"
      ],
      "metadata": {
        "colab": {
          "base_uri": "https://localhost:8080/"
        },
        "id": "TGN6cvHsDJ8R",
        "outputId": "8068e969-a87f-47cc-932e-bb0664898587"
      },
      "execution_count": null,
      "outputs": [
        {
          "output_type": "execute_result",
          "data": {
            "text/plain": [
              "array([2, 6, 2, 8, 2])"
            ]
          },
          "metadata": {},
          "execution_count": 23
        }
      ]
    },
    {
      "cell_type": "code",
      "source": [
        ""
      ],
      "metadata": {
        "id": "80fuBSXsDijd"
      },
      "execution_count": null,
      "outputs": []
    },
    {
      "cell_type": "markdown",
      "source": [
        "# **Q3**\n",
        "\n",
        "You decide to invest in a series of billboards along interstate 10 to advertise your stylish new chicken restaurant, Chic-fil-A. You buy three billboards evenly spaced starting from mile marker 17 and ending on mile marker 28. Then you buy another three billboards starting on mile marker 32 and ending on mile marker 36. In order, from mile marker 17 to 36, your billboards display these ads: A, B, C, C, B, A. Determine how far each C ad is from your restaurant which is located at mile marker 30.\n",
        "\n"
      ],
      "metadata": {
        "id": "Z5HKQ_bIDrbd"
      }
    },
    {
      "cell_type": "markdown",
      "source": [
        "## Solution"
      ],
      "metadata": {
        "id": "GjkpclZ1c1YB"
      }
    },
    {
      "cell_type": "code",
      "source": [
        "np.linspace(17,28,3)"
      ],
      "metadata": {
        "colab": {
          "base_uri": "https://localhost:8080/"
        },
        "id": "hZ88iXPac0cZ",
        "outputId": "61820d7f-5909-4fee-d880-d860dccb36df"
      },
      "execution_count": 28,
      "outputs": [
        {
          "output_type": "execute_result",
          "data": {
            "text/plain": [
              "array([17. , 22.5, 28. ])"
            ]
          },
          "metadata": {},
          "execution_count": 28
        }
      ]
    },
    {
      "cell_type": "code",
      "source": [
        "np.linspace(32,36,3)"
      ],
      "metadata": {
        "colab": {
          "base_uri": "https://localhost:8080/"
        },
        "id": "3QC7IGrPc8vD",
        "outputId": "c4e14e47-99f0-4e32-c66b-b5dcda4bd7f8"
      },
      "execution_count": null,
      "outputs": [
        {
          "output_type": "execute_result",
          "data": {
            "text/plain": [
              "array([32., 34., 36.])"
            ]
          },
          "metadata": {},
          "execution_count": 5
        }
      ]
    },
    {
      "cell_type": "code",
      "source": [
        "np.linspace([17,32],[28,36],3,axis=1)"
      ],
      "metadata": {
        "colab": {
          "base_uri": "https://localhost:8080/"
        },
        "id": "zTzEaEKMdGtE",
        "outputId": "c57f4f12-a1d2-4d31-8eab-40b04e89fa97"
      },
      "execution_count": null,
      "outputs": [
        {
          "output_type": "execute_result",
          "data": {
            "text/plain": [
              "array([[17. , 22.5, 28. ],\n",
              "       [32. , 34. , 36. ]])"
            ]
          },
          "metadata": {},
          "execution_count": 4
        }
      ]
    },
    {
      "cell_type": "markdown",
      "source": [
        "Final solution"
      ],
      "metadata": {
        "id": "idAOHYWWeQnR"
      }
    },
    {
      "cell_type": "code",
      "source": [
        "np.abs(np.linspace([17,32],[28,36],3,axis=1)-30)[[0,1],[2,0]]"
      ],
      "metadata": {
        "colab": {
          "base_uri": "https://localhost:8080/"
        },
        "id": "FzxH1zwzdQ6s",
        "outputId": "280cf166-c7b9-4b39-8f09-03fa3a8c4b1f"
      },
      "execution_count": null,
      "outputs": [
        {
          "output_type": "execute_result",
          "data": {
            "text/plain": [
              "array([2., 2.])"
            ]
          },
          "metadata": {},
          "execution_count": 10
        }
      ]
    },
    {
      "cell_type": "markdown",
      "source": [
        "# **Q4**"
      ],
      "metadata": {
        "id": "K5lfnnhuv2QF"
      }
    },
    {
      "cell_type": "markdown",
      "source": [
        "You’re a relationship scientist and you’ve developed a questionnaire that determines a person’s love score, a real-valued number between 0 and 100. Your theory is that two people with similar love scores should make a good match. Given the love scores for 10 different people, create a matrix where (i,j) gives the absolute difference of the love scores for person i and person j."
      ],
      "metadata": {
        "id": "Z2ECsX6Uw4hM"
      }
    },
    {
      "cell_type": "code",
      "source": [
        "import numpy as np\n",
        "\n",
        "generator = np.random.default_rng(1010)\n",
        "love_scores = np.round(generator.uniform(low=0, high=100, size=10), 2)\n",
        "love_scores"
      ],
      "metadata": {
        "colab": {
          "base_uri": "https://localhost:8080/"
        },
        "id": "qdSJ9BgHv3F8",
        "outputId": "e9b7c5d6-4d0f-42c6-c63f-5c5e8367c9c8"
      },
      "execution_count": null,
      "outputs": [
        {
          "output_type": "execute_result",
          "data": {
            "text/plain": [
              "array([ 9.5 , 53.58, 91.77, 98.15, 84.88, 74.61, 40.94, 56.49,  8.39,\n",
              "       64.69])"
            ]
          },
          "metadata": {},
          "execution_count": 3
        }
      ]
    },
    {
      "cell_type": "markdown",
      "source": [
        "## Solution"
      ],
      "metadata": {
        "id": "73d_kEMMxEcb"
      }
    },
    {
      "cell_type": "code",
      "source": [
        "love_scores.shape"
      ],
      "metadata": {
        "colab": {
          "base_uri": "https://localhost:8080/"
        },
        "id": "ZWlZamVvw7Cz",
        "outputId": "dad8f7c1-81de-44fb-818e-3e3367df119e"
      },
      "execution_count": null,
      "outputs": [
        {
          "output_type": "execute_result",
          "data": {
            "text/plain": [
              "(10,)"
            ]
          },
          "metadata": {},
          "execution_count": 4
        }
      ]
    },
    {
      "cell_type": "code",
      "source": [
        "love_scores[:,np.newaxis].shape"
      ],
      "metadata": {
        "colab": {
          "base_uri": "https://localhost:8080/"
        },
        "id": "wA57GuJlxJN3",
        "outputId": "7b8a9070-8ce8-453a-8dae-5c4a97ef0869"
      },
      "execution_count": null,
      "outputs": [
        {
          "output_type": "execute_result",
          "data": {
            "text/plain": [
              "(10, 1)"
            ]
          },
          "metadata": {},
          "execution_count": 6
        }
      ]
    },
    {
      "cell_type": "code",
      "source": [
        "love_scores[np.newaxis].shape"
      ],
      "metadata": {
        "colab": {
          "base_uri": "https://localhost:8080/"
        },
        "id": "sSCyaISoxM6W",
        "outputId": "89f0ba23-585e-4a99-c646-c6ef4431ddee"
      },
      "execution_count": null,
      "outputs": [
        {
          "output_type": "execute_result",
          "data": {
            "text/plain": [
              "(1, 10)"
            ]
          },
          "metadata": {},
          "execution_count": 7
        }
      ]
    },
    {
      "cell_type": "code",
      "source": [
        "print(abs(love_scores[:,np.newaxis]-love_scores[np.newaxis]))"
      ],
      "metadata": {
        "colab": {
          "base_uri": "https://localhost:8080/"
        },
        "id": "rd95GAZOxSfA",
        "outputId": "b5bafffc-cacb-400c-c012-25e42dc97ec3"
      },
      "execution_count": null,
      "outputs": [
        {
          "output_type": "stream",
          "name": "stdout",
          "text": [
            "[[ 0.   44.08 82.27 88.65 75.38 65.11 31.44 46.99  1.11 55.19]\n",
            " [44.08  0.   38.19 44.57 31.3  21.03 12.64  2.91 45.19 11.11]\n",
            " [82.27 38.19  0.    6.38  6.89 17.16 50.83 35.28 83.38 27.08]\n",
            " [88.65 44.57  6.38  0.   13.27 23.54 57.21 41.66 89.76 33.46]\n",
            " [75.38 31.3   6.89 13.27  0.   10.27 43.94 28.39 76.49 20.19]\n",
            " [65.11 21.03 17.16 23.54 10.27  0.   33.67 18.12 66.22  9.92]\n",
            " [31.44 12.64 50.83 57.21 43.94 33.67  0.   15.55 32.55 23.75]\n",
            " [46.99  2.91 35.28 41.66 28.39 18.12 15.55  0.   48.1   8.2 ]\n",
            " [ 1.11 45.19 83.38 89.76 76.49 66.22 32.55 48.1   0.   56.3 ]\n",
            " [55.19 11.11 27.08 33.46 20.19  9.92 23.75  8.2  56.3   0.  ]]\n"
          ]
        }
      ]
    },
    {
      "cell_type": "markdown",
      "source": [
        "# **Q5**"
      ],
      "metadata": {
        "id": "FucJ_Cfsx1z-"
      }
    },
    {
      "cell_type": "markdown",
      "source": [
        "You’re a vindictive, hateful professor and one of your pet peeves is when students rush through their exams. To teach them a lesson, you decide to give 0s to the first three students who score less than sixty, in the order they turned in their exams. So, given a 1d array of integers, identify the first three values less than sixty and replace them with zero."
      ],
      "metadata": {
        "id": "9BrU3sLwx4Ii"
      }
    },
    {
      "cell_type": "code",
      "source": [
        "import numpy as np\n",
        "\n",
        "generator = np.random.default_rng(80085)\n",
        "scores = np.round(generator.uniform(low=30, high=100, size=15))\n",
        "print(scores)\n"
      ],
      "metadata": {
        "colab": {
          "base_uri": "https://localhost:8080/"
        },
        "id": "qjXqptJYxZrv",
        "outputId": "13501a9a-e8ad-4d3b-ea72-ac7e78ab1a9d"
      },
      "execution_count": 2,
      "outputs": [
        {
          "output_type": "stream",
          "name": "stdout",
          "text": [
            "[68. 36. 76. 57. 56. 54. 63. 64. 36. 88. 80. 82. 84. 76. 42.]\n"
          ]
        }
      ]
    },
    {
      "cell_type": "markdown",
      "source": [
        "## Solution"
      ],
      "metadata": {
        "id": "HeDmmGPMx9GI"
      }
    },
    {
      "cell_type": "code",
      "source": [
        "scores[(scores<60).nonzero()[0][:3]]=0\n",
        "scores"
      ],
      "metadata": {
        "colab": {
          "base_uri": "https://localhost:8080/"
        },
        "id": "3T4FdTUax76f",
        "outputId": "4ae9e249-3d0c-4198-dddc-f8b9e0595c42"
      },
      "execution_count": null,
      "outputs": [
        {
          "output_type": "execute_result",
          "data": {
            "text/plain": [
              "array([68.,  0., 76.,  0.,  0., 54., 63., 64., 36., 88., 80., 82., 84.,\n",
              "       76., 42.])"
            ]
          },
          "metadata": {},
          "execution_count": 11
        }
      ]
    },
    {
      "cell_type": "markdown",
      "source": [
        "# **Q6**"
      ],
      "metadata": {
        "id": "vR2aNVCUfdX_"
      }
    },
    {
      "cell_type": "markdown",
      "source": [
        "Eager to make your mark on the PTA, you decide the best way to hide eggs for for the upcoming Easter egg hunt is to use NumPy. You represent the field as a 10x10 array of 0s. Now your goal is to insert twenty random normal values at random (non repeating) locations in the grid that tell you how much candy to hide at each spot and where."
      ],
      "metadata": {
        "id": "JSXc-v0kfoKD"
      }
    },
    {
      "cell_type": "code",
      "source": [
        "import numpy as np\n",
        "\n",
        "field = np.zeros(shape = (10, 10))\n",
        "print(field)"
      ],
      "metadata": {
        "colab": {
          "base_uri": "https://localhost:8080/"
        },
        "id": "hyNlspWWfhEh",
        "outputId": "92099556-8902-474e-d58f-fea5f5f4d8e3"
      },
      "execution_count": null,
      "outputs": [
        {
          "output_type": "stream",
          "name": "stdout",
          "text": [
            "[[0. 0. 0. 0. 0. 0. 0. 0. 0. 0.]\n",
            " [0. 0. 0. 0. 0. 0. 0. 0. 0. 0.]\n",
            " [0. 0. 0. 0. 0. 0. 0. 0. 0. 0.]\n",
            " [0. 0. 0. 0. 0. 0. 0. 0. 0. 0.]\n",
            " [0. 0. 0. 0. 0. 0. 0. 0. 0. 0.]\n",
            " [0. 0. 0. 0. 0. 0. 0. 0. 0. 0.]\n",
            " [0. 0. 0. 0. 0. 0. 0. 0. 0. 0.]\n",
            " [0. 0. 0. 0. 0. 0. 0. 0. 0. 0.]\n",
            " [0. 0. 0. 0. 0. 0. 0. 0. 0. 0.]\n",
            " [0. 0. 0. 0. 0. 0. 0. 0. 0. 0.]]\n"
          ]
        }
      ]
    },
    {
      "cell_type": "code",
      "source": [
        "field.size"
      ],
      "metadata": {
        "colab": {
          "base_uri": "https://localhost:8080/"
        },
        "id": "J_3yuqMSh7n0",
        "outputId": "cf7681bd-3ff8-4a84-9d0e-4da06ffbc702"
      },
      "execution_count": null,
      "outputs": [
        {
          "output_type": "execute_result",
          "data": {
            "text/plain": [
              "100"
            ]
          },
          "metadata": {},
          "execution_count": 10
        }
      ]
    },
    {
      "cell_type": "markdown",
      "source": [
        "## Solution\n"
      ],
      "metadata": {
        "id": "F-J5sbhpg3M1"
      }
    },
    {
      "cell_type": "markdown",
      "source": [
        "Creating 20 normal values"
      ],
      "metadata": {
        "id": "rJrDd-w6g5sc"
      }
    },
    {
      "cell_type": "code",
      "source": [
        "generator= np.random.default_rng(seed=1234)\n",
        "vals= np.round(generator.normal(size=20),2)\n"
      ],
      "metadata": {
        "id": "u3SxrtAFg4nM"
      },
      "execution_count": null,
      "outputs": []
    },
    {
      "cell_type": "markdown",
      "source": [
        "Creating 20 random locations"
      ],
      "metadata": {
        "id": "w7YJqegThcbJ"
      }
    },
    {
      "cell_type": "code",
      "source": [
        "locs=generator.choice(\n",
        "    a=100,\n",
        "    size=20,\n",
        "    replace=False\n",
        "\n",
        ")\n",
        "locs"
      ],
      "metadata": {
        "colab": {
          "base_uri": "https://localhost:8080/"
        },
        "id": "GHivzwuIhHEu",
        "outputId": "e03f6a39-7cda-4a7b-fc39-fb95a5fc4c97"
      },
      "execution_count": null,
      "outputs": [
        {
          "output_type": "execute_result",
          "data": {
            "text/plain": [
              "array([72, 96, 28, 37, 62, 73, 69, 17, 22, 44, 53, 21, 95,  0, 33, 82, 68,\n",
              "       39, 83,  8])"
            ]
          },
          "metadata": {},
          "execution_count": 7
        }
      ]
    },
    {
      "cell_type": "markdown",
      "source": [
        "To make it more dynamic"
      ],
      "metadata": {
        "id": "sBnSEzcAh014"
      }
    },
    {
      "cell_type": "code",
      "source": [
        "locs=generator.choice(\n",
        "    a=field.size,\n",
        "    size=len(vals),\n",
        "    replace=False\n",
        "\n",
        ")\n",
        "locs"
      ],
      "metadata": {
        "colab": {
          "base_uri": "https://localhost:8080/"
        },
        "id": "aEy_48gPhtV4",
        "outputId": "bcd67652-6744-4288-dd15-d2bebc4bd47c"
      },
      "execution_count": null,
      "outputs": [
        {
          "output_type": "execute_result",
          "data": {
            "text/plain": [
              "array([15, 99, 42, 55, 41,  5,  3, 86, 39, 35, 61, 46, 63, 48, 11, 84, 24,\n",
              "       17,  0, 51])"
            ]
          },
          "metadata": {},
          "execution_count": 12
        }
      ]
    },
    {
      "cell_type": "code",
      "source": [
        "np.ravel(field)[locs]=vals\n",
        "print(field)"
      ],
      "metadata": {
        "colab": {
          "base_uri": "https://localhost:8080/"
        },
        "id": "n6N2B7wWiJ9h",
        "outputId": "53240738-0742-4614-f8e7-740e73821f90"
      },
      "execution_count": null,
      "outputs": [
        {
          "output_type": "stream",
          "name": "stdout",
          "text": [
            "[[ 0.52  0.    0.   -1.48  0.    2.91  0.    0.    0.    0.  ]\n",
            " [ 0.   -1.27  0.    0.    0.   -1.6   0.    1.73  0.    0.  ]\n",
            " [ 0.    0.    0.    0.    0.43  0.    0.    0.    0.    0.  ]\n",
            " [ 0.    0.    0.    0.    0.    0.34  0.    0.    0.   -1.67]\n",
            " [ 0.    0.86  0.74  0.    0.    0.    1.32  0.    0.52  0.  ]\n",
            " [ 0.   -1.    0.    0.    0.    0.15  0.    0.    0.    0.  ]\n",
            " [ 0.   -0.51  0.   -0.86  0.    0.    0.    0.    0.    0.  ]\n",
            " [ 0.    0.    0.    0.    0.    0.    0.    0.    0.    0.  ]\n",
            " [ 0.    0.    0.    0.   -2.16  0.    0.95  0.    0.    0.  ]\n",
            " [ 0.    0.    0.    0.    0.    0.    0.    0.    0.    0.06]]\n"
          ]
        }
      ]
    },
    {
      "cell_type": "code",
      "source": [
        "import numpy as  np\n",
        "arr= np.random.randint(1,7,size=(3,3))\n",
        "arr"
      ],
      "metadata": {
        "id": "44sX0rkqiN2d",
        "colab": {
          "base_uri": "https://localhost:8080/"
        },
        "outputId": "31582da8-2533-46f1-8b00-6d2d04d8671a"
      },
      "execution_count": null,
      "outputs": [
        {
          "output_type": "execute_result",
          "data": {
            "text/plain": [
              "array([[1, 6, 1],\n",
              "       [3, 6, 1],\n",
              "       [3, 5, 2]])"
            ]
          },
          "metadata": {},
          "execution_count": 3
        }
      ]
    },
    {
      "cell_type": "code",
      "source": [
        ""
      ],
      "metadata": {
        "id": "r9jamb-mtqBJ"
      },
      "execution_count": null,
      "outputs": []
    },
    {
      "cell_type": "markdown",
      "source": [
        "# **Q7**"
      ],
      "metadata": {
        "id": "ASurQqjytqWB"
      }
    },
    {
      "cell_type": "markdown",
      "source": [
        "You’re given a 10x2 array of floats where each row represents a movie. The first column represents the movie’s rating and the second column represents the director’s rating. Your goal is to create a third column to represent the overall rating. The overall rating is equal to the movie rating if it exists, otherwise it’s the director’s rating."
      ],
      "metadata": {
        "id": "F-n9aFeltttR"
      }
    },
    {
      "cell_type": "code",
      "source": [
        "import numpy as np\n",
        "\n",
        "generator = np.random.default_rng(123)\n",
        "ratings = np.round(generator.uniform(low = 0.0, high = 10.0, size = (10, 2)))\n",
        "ratings[[1,2,7,9], [0,0,0,0]] = np.nan\n",
        "print(ratings)"
      ],
      "metadata": {
        "colab": {
          "base_uri": "https://localhost:8080/"
        },
        "id": "-TySL-PPttVH",
        "outputId": "c5b3b971-a67f-497c-affa-14a25ce61bd0"
      },
      "execution_count": null,
      "outputs": [
        {
          "output_type": "stream",
          "name": "stdout",
          "text": [
            "[[ 7.  1.]\n",
            " [nan  2.]\n",
            " [nan  8.]\n",
            " [ 9.  3.]\n",
            " [ 8.  9.]\n",
            " [ 5.  2.]\n",
            " [ 8.  2.]\n",
            " [nan  6.]\n",
            " [ 9.  2.]\n",
            " [nan  5.]]\n"
          ]
        }
      ]
    },
    {
      "cell_type": "markdown",
      "source": [
        "## Solution"
      ],
      "metadata": {
        "id": "mIBXSyAktx2m"
      }
    },
    {
      "cell_type": "code",
      "source": [
        "arr= np.where(np.isnan(ratings[:,0]), ratings[:,1], ratings[:,0])\n",
        "np.concatenate((ratings,arr.reshape(10,1)),axis=1)"
      ],
      "metadata": {
        "colab": {
          "base_uri": "https://localhost:8080/"
        },
        "id": "1iuXlNIytxrk",
        "outputId": "64dad188-c16a-4cc3-aea5-6718a78265b0"
      },
      "execution_count": null,
      "outputs": [
        {
          "output_type": "execute_result",
          "data": {
            "text/plain": [
              "array([[ 7.,  1.,  7.],\n",
              "       [nan,  2.,  2.],\n",
              "       [nan,  8.,  8.],\n",
              "       [ 9.,  3.,  9.],\n",
              "       [ 8.,  9.,  8.],\n",
              "       [ 5.,  2.,  5.],\n",
              "       [ 8.,  2.,  8.],\n",
              "       [nan,  6.,  6.],\n",
              "       [ 9.,  2.,  9.],\n",
              "       [nan,  5.,  5.]])"
            ]
          },
          "metadata": {},
          "execution_count": 10
        }
      ]
    },
    {
      "cell_type": "markdown",
      "source": [
        "# **Q8**"
      ],
      "metadata": {
        "id": "poW9pbBlW7-l"
      }
    },
    {
      "cell_type": "markdown",
      "source": [
        "10 fish occupy a 5x5x5 grid of water. Each fish decides to move to a new (i,j,k) location given by the matrix below. If multiple fish end up occupying the same cell, the biggest fish eats the smaller fish. Determine which fish will survive."
      ],
      "metadata": {
        "id": "XMtBXVZsXAW7"
      }
    },
    {
      "cell_type": "code",
      "source": [
        "\n",
        "import numpy as np\n",
        "\n",
        "locs = np.array([\n",
        "    [0,0,0],\n",
        "    [1,1,2],\n",
        "    [0,0,0],\n",
        "    [2,1,3],\n",
        "    [5,5,4],\n",
        "    [5,0,0],\n",
        "    [5,0,0],\n",
        "    [0,0,0],\n",
        "    [2,1,3],\n",
        "    [1,3,1]\n",
        "])"
      ],
      "metadata": {
        "id": "3kHXdFFPW_TP"
      },
      "execution_count": 3,
      "outputs": []
    },
    {
      "cell_type": "code",
      "source": [
        "\n",
        "generator = np.random.default_rng(1010)\n",
        "weights = generator.normal(size=10)\n",
        "print(weights)"
      ],
      "metadata": {
        "colab": {
          "base_uri": "https://localhost:8080/"
        },
        "id": "XDmVTlXeXJX1",
        "outputId": "8abf2ea7-2deb-4fa8-ed8d-1c56bf0bac73"
      },
      "execution_count": 10,
      "outputs": [
        {
          "output_type": "stream",
          "name": "stdout",
          "text": [
            "[-1.69870017  0.53799701 -0.22561399 -1.09020894  0.55391264 -1.50115445\n",
            "  0.44545933  1.3448172  -1.12364327  0.21216015]\n"
          ]
        }
      ]
    },
    {
      "cell_type": "markdown",
      "source": [
        "##Solution"
      ],
      "metadata": {
        "id": "kGiT1I06XMVE"
      }
    },
    {
      "cell_type": "code",
      "source": [
        "sorted_weights = np.argsort(weights)[::-1]\n"
      ],
      "metadata": {
        "id": "G1825DCfZJJ5"
      },
      "execution_count": 23,
      "outputs": []
    },
    {
      "cell_type": "code",
      "source": [
        "vals=locs[sorted_weights]"
      ],
      "metadata": {
        "id": "v-_Xvrqp1JWz"
      },
      "execution_count": 24,
      "outputs": []
    },
    {
      "cell_type": "code",
      "source": [
        "idx=np.unique(vals,axis=0,return_index=True)[1]"
      ],
      "metadata": {
        "id": "Jy225NYZ1aOX"
      },
      "execution_count": 25,
      "outputs": []
    },
    {
      "cell_type": "code",
      "source": [
        "print(sorted_weights[idx])"
      ],
      "metadata": {
        "colab": {
          "base_uri": "https://localhost:8080/"
        },
        "id": "bS2bvFYP1qN2",
        "outputId": "f0cd97c9-6afd-41d1-d5bb-99b738384633"
      },
      "execution_count": 27,
      "outputs": [
        {
          "output_type": "stream",
          "name": "stdout",
          "text": [
            "[7 1 9 3 6 4]\n"
          ]
        }
      ]
    }
  ]
}