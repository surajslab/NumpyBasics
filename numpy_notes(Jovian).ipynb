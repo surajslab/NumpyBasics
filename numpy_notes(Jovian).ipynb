{
  "nbformat": 4,
  "nbformat_minor": 0,
  "metadata": {
    "colab": {
      "name": "numpy_notes(Jovian).ipynb",
      "provenance": [],
      "collapsed_sections": [
        "zz8fVLnxi3Uj",
        "IcJV34BnjVwu",
        "9cJRA28rlM-v"
      ],
      "authorship_tag": "ABX9TyPSE7GDTLAWfMbJENs1qyRs",
      "include_colab_link": true
    },
    "kernelspec": {
      "name": "python3",
      "display_name": "Python 3"
    },
    "language_info": {
      "name": "python"
    }
  },
  "cells": [
    {
      "cell_type": "markdown",
      "metadata": {
        "id": "view-in-github",
        "colab_type": "text"
      },
      "source": [
        "<a href=\"https://colab.research.google.com/github/surajslab/NumpyBasics/blob/main/numpy_notes(Jovian).ipynb\" target=\"_parent\"><img src=\"https://colab.research.google.com/assets/colab-badge.svg\" alt=\"Open In Colab\"/></a>"
      ]
    },
    {
      "cell_type": "markdown",
      "metadata": {
        "id": "0D9Mgl9UhrSD"
      },
      "source": [
        "Reference :https://www.youtube.com/watch?v=d0E0_87CrFA&list=PLyMom0n-MBrpzC91Uo560S4VbsiLYtCwo&index=4"
      ]
    },
    {
      "cell_type": "markdown",
      "metadata": {
        "id": "8HRwlUuweASv"
      },
      "source": [
        "# **Numpy for Data Analysis and Machine Learning**"
      ]
    },
    {
      "cell_type": "markdown",
      "metadata": {
        "id": "WCqLpFsbe86b"
      },
      "source": [
        "### Multidimensional Arrays"
      ]
    },
    {
      "cell_type": "code",
      "metadata": {
        "id": "cJVwpgqkfURv"
      },
      "source": [
        "import numpy as np"
      ],
      "execution_count": 2,
      "outputs": []
    },
    {
      "cell_type": "markdown",
      "metadata": {
        "id": "7xnz-rSzfhFk"
      },
      "source": [
        "### 2D Arrays"
      ]
    },
    {
      "cell_type": "code",
      "metadata": {
        "id": "7XIXdkwpe8U5",
        "colab": {
          "base_uri": "https://localhost:8080/"
        },
        "outputId": "6f42a5e3-540a-436b-89b9-9181e5fa4c99"
      },
      "source": [
        "climate_data=np.array([\n",
        "                       [1,2,3,4],\n",
        "                       [5,6,7,8],\n",
        "                       [9,10,11,12]\n",
        "                       \n",
        "                       \n",
        "                       ])\n",
        "climate_data"
      ],
      "execution_count": 3,
      "outputs": [
        {
          "output_type": "execute_result",
          "data": {
            "text/plain": [
              "array([[ 1,  2,  3,  4],\n",
              "       [ 5,  6,  7,  8],\n",
              "       [ 9, 10, 11, 12]])"
            ]
          },
          "metadata": {},
          "execution_count": 3
        }
      ]
    },
    {
      "cell_type": "code",
      "metadata": {
        "id": "pO5zGV3Hfaac",
        "colab": {
          "base_uri": "https://localhost:8080/"
        },
        "outputId": "7127b0b8-5750-4d7d-b618-9d92094b74f6"
      },
      "source": [
        "climate_data.shape"
      ],
      "execution_count": 4,
      "outputs": [
        {
          "output_type": "execute_result",
          "data": {
            "text/plain": [
              "(3, 4)"
            ]
          },
          "metadata": {},
          "execution_count": 4
        }
      ]
    },
    {
      "cell_type": "markdown",
      "metadata": {
        "id": "EhuN4HXqfsQ-"
      },
      "source": [
        "### 3D Arrays"
      ]
    },
    {
      "cell_type": "code",
      "metadata": {
        "id": "jTnVbOZ4fvGM",
        "colab": {
          "base_uri": "https://localhost:8080/"
        },
        "outputId": "649c81fe-d437-440e-8392-3f12606314d1"
      },
      "source": [
        "climate_data=np.array([\n",
        "                       [[1,2],[3,4]],\n",
        "                       [[5,6],[7,8]],\n",
        "                       [[9,10],[11,12]]\n",
        "                       \n",
        "                       \n",
        "                       ])\n",
        "climate_data"
      ],
      "execution_count": 5,
      "outputs": [
        {
          "output_type": "execute_result",
          "data": {
            "text/plain": [
              "array([[[ 1,  2],\n",
              "        [ 3,  4]],\n",
              "\n",
              "       [[ 5,  6],\n",
              "        [ 7,  8]],\n",
              "\n",
              "       [[ 9, 10],\n",
              "        [11, 12]]])"
            ]
          },
          "metadata": {},
          "execution_count": 5
        }
      ]
    },
    {
      "cell_type": "code",
      "metadata": {
        "id": "Z5Cbx2OzgGRG",
        "colab": {
          "base_uri": "https://localhost:8080/"
        },
        "outputId": "d0913d2d-ceb6-427a-bb0f-c2cf7766a443"
      },
      "source": [
        "climate_data.shape"
      ],
      "execution_count": 6,
      "outputs": [
        {
          "output_type": "execute_result",
          "data": {
            "text/plain": [
              "(3, 2, 2)"
            ]
          },
          "metadata": {},
          "execution_count": 6
        }
      ]
    },
    {
      "cell_type": "markdown",
      "metadata": {
        "id": "y27tbI68eoUa"
      },
      "source": [
        "### Working with CSV Files"
      ]
    },
    {
      "cell_type": "code",
      "metadata": {
        "id": "n36uZT55eAFj"
      },
      "source": [
        "from  urllib.request import urlretrieve"
      ],
      "execution_count": 7,
      "outputs": []
    },
    {
      "cell_type": "code",
      "metadata": {
        "id": "9SKJYfSnd9z5"
      },
      "source": [
        "url='https://hub.jovian.ml/wp-content/uploads/2020/08/climate.csv'"
      ],
      "execution_count": 8,
      "outputs": []
    },
    {
      "cell_type": "code",
      "metadata": {
        "colab": {
          "base_uri": "https://localhost:8080/"
        },
        "id": "Qmm__nNGg7Ai",
        "outputId": "d38c1ce8-89c2-45bf-e372-f564e2738403"
      },
      "source": [
        "urlretrieve(url,\"climate.txt\")"
      ],
      "execution_count": 9,
      "outputs": [
        {
          "output_type": "execute_result",
          "data": {
            "text/plain": [
              "('climate.txt', <http.client.HTTPMessage at 0x7f815a0a4990>)"
            ]
          },
          "metadata": {},
          "execution_count": 9
        }
      ]
    },
    {
      "cell_type": "code",
      "metadata": {
        "id": "IGsICyItg-ep"
      },
      "source": [
        "climate_data = np.genfromtxt('climate.txt', delimiter=',', skip_header=1)"
      ],
      "execution_count": 10,
      "outputs": []
    },
    {
      "cell_type": "code",
      "metadata": {
        "colab": {
          "base_uri": "https://localhost:8080/"
        },
        "id": "Xm40SygpiCIC",
        "outputId": "f76e62fa-337f-46bb-c6fe-76333a63a37e"
      },
      "source": [
        "climate_data.shape"
      ],
      "execution_count": 11,
      "outputs": [
        {
          "output_type": "execute_result",
          "data": {
            "text/plain": [
              "(10000, 3)"
            ]
          },
          "metadata": {},
          "execution_count": 11
        }
      ]
    },
    {
      "cell_type": "markdown",
      "metadata": {
        "id": "zz8fVLnxi3Uj"
      },
      "source": [
        "### Performing a matrix multiplication with random weights to predict the yeilds of apple in a year.\n"
      ]
    },
    {
      "cell_type": "code",
      "metadata": {
        "id": "YGdjrFRJiIbG"
      },
      "source": [
        "weights=np.array([0.3,0.2,0.5])"
      ],
      "execution_count": 12,
      "outputs": []
    },
    {
      "cell_type": "code",
      "metadata": {
        "colab": {
          "base_uri": "https://localhost:8080/"
        },
        "id": "h6tq1ycPjP7M",
        "outputId": "0e98113f-4a2f-4f0d-ec0c-c2dd5b9b22c1"
      },
      "source": [
        "climate_data.shape, weights.shape"
      ],
      "execution_count": 13,
      "outputs": [
        {
          "output_type": "execute_result",
          "data": {
            "text/plain": [
              "((10000, 3), (3,))"
            ]
          },
          "metadata": {},
          "execution_count": 13
        }
      ]
    },
    {
      "cell_type": "markdown",
      "metadata": {
        "id": "IcJV34BnjVwu"
      },
      "source": [
        "### Since you can see the shape of climate data is 1000/3 and shape of weights is 3/1 thus the shape of resultant matrix is 10000,1 "
      ]
    },
    {
      "cell_type": "code",
      "metadata": {
        "id": "77YSaQ9sigM0"
      },
      "source": [
        "yeilds = climate_data @ weights"
      ],
      "execution_count": 14,
      "outputs": []
    },
    {
      "cell_type": "code",
      "metadata": {
        "colab": {
          "base_uri": "https://localhost:8080/"
        },
        "id": "dBa-0JS6iqAg",
        "outputId": "61889688-9054-4843-e10c-02530d55c551"
      },
      "source": [
        "yeilds"
      ],
      "execution_count": 15,
      "outputs": [
        {
          "output_type": "execute_result",
          "data": {
            "text/plain": [
              "array([72.2, 59.7, 65.2, ..., 71.1, 80.7, 73.4])"
            ]
          },
          "metadata": {},
          "execution_count": 15
        }
      ]
    },
    {
      "cell_type": "markdown",
      "metadata": {
        "id": "9cJRA28rlM-v"
      },
      "source": [
        "### Putting this yield data into the climate_data !!"
      ]
    },
    {
      "cell_type": "code",
      "metadata": {
        "id": "BntozhtKjI2M"
      },
      "source": [
        "climate_data=np.concatenate((climate_data,yeilds.reshape(10000,1)),axis=1)"
      ],
      "execution_count": 16,
      "outputs": []
    },
    {
      "cell_type": "code",
      "metadata": {
        "colab": {
          "base_uri": "https://localhost:8080/"
        },
        "id": "GDF6ahq0len3",
        "outputId": "ae5f2f91-d386-4ea9-828c-1700c83e1302"
      },
      "source": [
        "climate_data"
      ],
      "execution_count": 17,
      "outputs": [
        {
          "output_type": "execute_result",
          "data": {
            "text/plain": [
              "array([[25. , 76. , 99. , 72.2],\n",
              "       [39. , 65. , 70. , 59.7],\n",
              "       [59. , 45. , 77. , 65.2],\n",
              "       ...,\n",
              "       [99. , 62. , 58. , 71.1],\n",
              "       [70. , 71. , 91. , 80.7],\n",
              "       [92. , 39. , 76. , 73.4]])"
            ]
          },
          "metadata": {},
          "execution_count": 17
        }
      ]
    },
    {
      "cell_type": "code",
      "metadata": {
        "colab": {
          "base_uri": "https://localhost:8080/"
        },
        "id": "RTAVgpJPli9A",
        "outputId": "d094fa82-71c8-4783-e654-158318cd8847"
      },
      "source": [
        "climate_data.shape"
      ],
      "execution_count": 18,
      "outputs": [
        {
          "output_type": "execute_result",
          "data": {
            "text/plain": [
              "(10000, 4)"
            ]
          },
          "metadata": {},
          "execution_count": 18
        }
      ]
    },
    {
      "cell_type": "code",
      "metadata": {
        "id": "KuNWnhQKvPai"
      },
      "source": [
        "np.savetxt(\"climate_data.txt\",\n",
        "           climate_data,\n",
        "           fmt=\"%.2f\",\n",
        "           header=\"temperature,rainfall,humidity,yield_apples\")"
      ],
      "execution_count": 19,
      "outputs": []
    },
    {
      "cell_type": "markdown",
      "metadata": {
        "id": "XAccnDTcwKYO"
      },
      "source": [
        "Numpy provides hundreds of functions for performing operations on arrays. Here are some commonly used functions:\n",
        "\n",
        "\n",
        "* Mathematics: `np.sum`, `np.exp`, `np.round`, arithemtic operators \n",
        "* Array manipulation: `np.reshape`, `np.stack`, `np.concatenate`, `np.split`\n",
        "* Linear Algebra: `np.matmul`, `np.dot`, `np.transpose`, `np.eigvals`\n",
        "* Statistics: `np.mean`, `np.median`, `np.std`, `np.max`\n",
        "\n",
        " \n",
        "\n",
        "> You can find a full list of array functions here: https://numpy.org/doc/stable/reference/routines.html"
      ]
    },
    {
      "cell_type": "markdown",
      "metadata": {
        "id": "UBys7w4BzApP"
      },
      "source": [
        "# **Arithmetic Operations and Broadcasting**\n",
        "<br>\n",
        "\n",
        "Numpy arrays support arithmetic operators like `+`, `-`, `*`, etc. You can perform an arithmetic operation with a single number (also called scalar) or with another array of the same shape. Operators make it easy to write mathematical expressions with multi-dimensional arrays."
      ]
    },
    {
      "cell_type": "code",
      "metadata": {
        "id": "QQIsC4hewNIQ"
      },
      "source": [
        "arr2 = np.array([[1, 2, 3, 4], \n",
        "                 [5, 6, 7, 8], \n",
        "                 [9, 1, 2, 3]])"
      ],
      "execution_count": 20,
      "outputs": []
    },
    {
      "cell_type": "code",
      "metadata": {
        "id": "61-IB1Bf6pLm"
      },
      "source": [
        "arr3 = np.array([[11, 12, 13, 14], \n",
        "                 [15, 16, 17, 18], \n",
        "                 [19, 11, 12, 13]])"
      ],
      "execution_count": 21,
      "outputs": []
    },
    {
      "cell_type": "markdown",
      "metadata": {
        "id": "7Lh3ezfS62Cg"
      },
      "source": [
        "Adding 2 arrays"
      ]
    },
    {
      "cell_type": "code",
      "metadata": {
        "colab": {
          "base_uri": "https://localhost:8080/"
        },
        "id": "DTmhBbtU6tLN",
        "outputId": "6c60c6cf-4d11-4cae-c6b2-2e401d575330"
      },
      "source": [
        "arr2+arr3"
      ],
      "execution_count": 22,
      "outputs": [
        {
          "output_type": "execute_result",
          "data": {
            "text/plain": [
              "array([[12, 14, 16, 18],\n",
              "       [20, 22, 24, 26],\n",
              "       [28, 12, 14, 16]])"
            ]
          },
          "metadata": {},
          "execution_count": 22
        }
      ]
    },
    {
      "cell_type": "markdown",
      "metadata": {
        "id": "EfSxeaf_6zNr"
      },
      "source": [
        "Adding a scalar"
      ]
    },
    {
      "cell_type": "code",
      "metadata": {
        "colab": {
          "base_uri": "https://localhost:8080/"
        },
        "id": "yGrLwv6L6uip",
        "outputId": "69887f3d-bbe9-420c-affb-84b247a87a8e"
      },
      "source": [
        "arr2+2"
      ],
      "execution_count": 23,
      "outputs": [
        {
          "output_type": "execute_result",
          "data": {
            "text/plain": [
              "array([[ 3,  4,  5,  6],\n",
              "       [ 7,  8,  9, 10],\n",
              "       [11,  3,  4,  5]])"
            ]
          },
          "metadata": {},
          "execution_count": 23
        }
      ]
    },
    {
      "cell_type": "markdown",
      "metadata": {
        "id": "RI0IL2Yl7AkE"
      },
      "source": [
        "Element wise multiplication"
      ]
    },
    {
      "cell_type": "code",
      "metadata": {
        "colab": {
          "base_uri": "https://localhost:8080/"
        },
        "id": "lHI10boW6wtU",
        "outputId": "db604405-2f0b-46ae-ae85-55d0a70a27f1"
      },
      "source": [
        "arr2*arr3"
      ],
      "execution_count": 24,
      "outputs": [
        {
          "output_type": "execute_result",
          "data": {
            "text/plain": [
              "array([[ 11,  24,  39,  56],\n",
              "       [ 75,  96, 119, 144],\n",
              "       [171,  11,  24,  39]])"
            ]
          },
          "metadata": {},
          "execution_count": 24
        }
      ]
    },
    {
      "cell_type": "code",
      "metadata": {
        "id": "Cx-_DJIc7FeK"
      },
      "source": [
        "arr4=np.array([1,2,3,4])"
      ],
      "execution_count": 25,
      "outputs": []
    },
    {
      "cell_type": "markdown",
      "metadata": {
        "id": "ZGJGdzKH70Ps"
      },
      "source": [
        "When the expression `arr2 + arr4` is evaluated, `arr4` (which has the shape `(4,)`) is replicated three times to match the shape `(3, 4)` of `arr2`. Numpy performs the replication without actually creating three copies of the smaller dimension array, thus improving performance and using lower memory.\n",
        "\n",
        "<img src=\"https://jakevdp.github.io/PythonDataScienceHandbook/figures/02.05-broadcasting.png\" width=\"360\">\n",
        "\n",
        "Broadcasting only works if one of the arrays can be replicated to match the other array's shape."
      ]
    },
    {
      "cell_type": "code",
      "metadata": {
        "colab": {
          "base_uri": "https://localhost:8080/"
        },
        "id": "9AiW3yh67t7i",
        "outputId": "67d20bb2-01e0-42ff-ee70-11ba892335c5"
      },
      "source": [
        "arr2+arr4"
      ],
      "execution_count": 26,
      "outputs": [
        {
          "output_type": "execute_result",
          "data": {
            "text/plain": [
              "array([[ 2,  4,  6,  8],\n",
              "       [ 6,  8, 10, 12],\n",
              "       [10,  3,  5,  7]])"
            ]
          },
          "metadata": {},
          "execution_count": 26
        }
      ]
    },
    {
      "cell_type": "markdown",
      "metadata": {
        "id": "DvrxEeze9oYC"
      },
      "source": [
        "# **Array indexing and slicing**\n",
        "\n",
        "Numpy extends Python's list indexing notation using `[]` to multiple dimensions in an intuitive fashion. You can provide a comma-separated list of indices or ranges to select a specific element or a subarray (also called a slice) from a Numpy array."
      ]
    },
    {
      "cell_type": "code",
      "metadata": {
        "id": "mUwvk2fh7vk6"
      },
      "source": [
        "arr = np.array([\n",
        "                \n",
        "    [ [11, 12, 13, 14],  \n",
        "     \n",
        "     [13, 14, 15, 19] ], \n",
        "    \n",
        "    \n",
        "    [ [15, 16, 17, 21],  \n",
        "     \n",
        "     [63, 92, 36, 18] ], \n",
        "    \n",
        "\n",
        "    [ [98, 32, 81, 23],   \n",
        "     \n",
        "     [17, 18, 19.5, 43]]\n",
        "    \n",
        "    ])"
      ],
      "execution_count": 27,
      "outputs": []
    },
    {
      "cell_type": "code",
      "metadata": {
        "colab": {
          "base_uri": "https://localhost:8080/"
        },
        "id": "iv7IwEtd9v7u",
        "outputId": "d258c755-86f6-4d02-8d76-ff445ae02696"
      },
      "source": [
        "arr[0,0,0]"
      ],
      "execution_count": 33,
      "outputs": [
        {
          "output_type": "execute_result",
          "data": {
            "text/plain": [
              "11.0"
            ]
          },
          "metadata": {},
          "execution_count": 33
        }
      ]
    },
    {
      "cell_type": "code",
      "metadata": {
        "colab": {
          "base_uri": "https://localhost:8080/"
        },
        "id": "e6jG40ox9xwm",
        "outputId": "3a50819d-f56e-4895-a857-38e5036930b9"
      },
      "source": [
        "arr[1,1]"
      ],
      "execution_count": 34,
      "outputs": [
        {
          "output_type": "execute_result",
          "data": {
            "text/plain": [
              "array([63., 92., 36., 18.])"
            ]
          },
          "metadata": {},
          "execution_count": 34
        }
      ]
    },
    {
      "cell_type": "code",
      "metadata": {
        "colab": {
          "base_uri": "https://localhost:8080/"
        },
        "id": "9XAyYMuI90hr",
        "outputId": "7cfb1d47-2217-428a-e73e-de714d9299ff"
      },
      "source": [
        "arr[1,1,2]"
      ],
      "execution_count": 35,
      "outputs": [
        {
          "output_type": "execute_result",
          "data": {
            "text/plain": [
              "36.0"
            ]
          },
          "metadata": {},
          "execution_count": 35
        }
      ]
    },
    {
      "cell_type": "markdown",
      "metadata": {
        "id": "QixCcbWb-jF0"
      },
      "source": [
        "### Mixing Arrays and Indexes"
      ]
    },
    {
      "cell_type": "code",
      "metadata": {
        "colab": {
          "base_uri": "https://localhost:8080/"
        },
        "id": "R0TNbIEv-wJf",
        "outputId": "49a23bfe-48fe-4f14-aa2e-39eb55a73ea3"
      },
      "source": [
        "arr"
      ],
      "execution_count": 31,
      "outputs": [
        {
          "output_type": "execute_result",
          "data": {
            "text/plain": [
              "array([[[11. , 12. , 13. , 14. ],\n",
              "        [13. , 14. , 15. , 19. ]],\n",
              "\n",
              "       [[15. , 16. , 17. , 21. ],\n",
              "        [63. , 92. , 36. , 18. ]],\n",
              "\n",
              "       [[98. , 32. , 81. , 23. ],\n",
              "        [17. , 18. , 19.5, 43. ]]])"
            ]
          },
          "metadata": {},
          "execution_count": 31
        }
      ]
    },
    {
      "cell_type": "code",
      "metadata": {
        "colab": {
          "base_uri": "https://localhost:8080/"
        },
        "id": "DhKfvgDP93OY",
        "outputId": "9bbb35dc-1406-41d3-d9a6-1bb273ec8473"
      },
      "source": [
        "arr[1:]"
      ],
      "execution_count": 36,
      "outputs": [
        {
          "output_type": "execute_result",
          "data": {
            "text/plain": [
              "array([[[15. , 16. , 17. , 21. ],\n",
              "        [63. , 92. , 36. , 18. ]],\n",
              "\n",
              "       [[98. , 32. , 81. , 23. ],\n",
              "        [17. , 18. , 19.5, 43. ]]])"
            ]
          },
          "metadata": {},
          "execution_count": 36
        }
      ]
    },
    {
      "cell_type": "code",
      "metadata": {
        "colab": {
          "base_uri": "https://localhost:8080/"
        },
        "id": "1rm2uDQXNBkv",
        "outputId": "d093f55e-969c-4396-82c2-83470e130d89"
      },
      "source": [
        "arr[1:,1]"
      ],
      "execution_count": 38,
      "outputs": [
        {
          "output_type": "execute_result",
          "data": {
            "text/plain": [
              "array([[63. , 92. , 36. , 18. ],\n",
              "       [17. , 18. , 19.5, 43. ]])"
            ]
          },
          "metadata": {},
          "execution_count": 38
        }
      ]
    },
    {
      "cell_type": "code",
      "metadata": {
        "colab": {
          "base_uri": "https://localhost:8080/"
        },
        "id": "_GliEPn_NHwZ",
        "outputId": "84e00c15-2ce4-4829-b110-3ae857b64444"
      },
      "source": [
        "arr[1:,1,1:]"
      ],
      "execution_count": 39,
      "outputs": [
        {
          "output_type": "execute_result",
          "data": {
            "text/plain": [
              "array([[92. , 36. , 18. ],\n",
              "       [18. , 19.5, 43. ]])"
            ]
          },
          "metadata": {},
          "execution_count": 39
        }
      ]
    },
    {
      "cell_type": "markdown",
      "metadata": {
        "id": "nF5eeu2SNa3d"
      },
      "source": [
        "# **Other Ways of Creating Numpy Arrays**"
      ]
    },
    {
      "cell_type": "code",
      "metadata": {
        "colab": {
          "base_uri": "https://localhost:8080/"
        },
        "id": "kkhZXeoONPZK",
        "outputId": "0c3121f3-10f4-4de5-a323-7169de24d1b2"
      },
      "source": [
        "np.zeros((3,2))"
      ],
      "execution_count": 42,
      "outputs": [
        {
          "output_type": "execute_result",
          "data": {
            "text/plain": [
              "array([[0., 0.],\n",
              "       [0., 0.],\n",
              "       [0., 0.]])"
            ]
          },
          "metadata": {},
          "execution_count": 42
        }
      ]
    },
    {
      "cell_type": "code",
      "metadata": {
        "colab": {
          "base_uri": "https://localhost:8080/"
        },
        "id": "f6wE1lUjNuGB",
        "outputId": "bb8ea0ae-6638-4e9a-d5b7-4b5910dfa073"
      },
      "source": [
        "np.ones((3,2))"
      ],
      "execution_count": 49,
      "outputs": [
        {
          "output_type": "execute_result",
          "data": {
            "text/plain": [
              "(3, 2)"
            ]
          },
          "metadata": {},
          "execution_count": 49
        }
      ]
    },
    {
      "cell_type": "code",
      "metadata": {
        "colab": {
          "base_uri": "https://localhost:8080/"
        },
        "id": "zZTpa8hKN1SA",
        "outputId": "e4ab6d73-40ce-472e-dc8e-c6d128ac080f"
      },
      "source": [
        "np.ones([3,2,2])"
      ],
      "execution_count": 50,
      "outputs": [
        {
          "output_type": "execute_result",
          "data": {
            "text/plain": [
              "array([[[1., 1.],\n",
              "        [1., 1.]],\n",
              "\n",
              "       [[1., 1.],\n",
              "        [1., 1.]],\n",
              "\n",
              "       [[1., 1.],\n",
              "        [1., 1.]]])"
            ]
          },
          "metadata": {},
          "execution_count": 50
        }
      ]
    },
    {
      "cell_type": "markdown",
      "metadata": {
        "id": "_gOB3Uv4R1-O"
      },
      "source": [
        "Identity Matrix"
      ]
    },
    {
      "cell_type": "code",
      "metadata": {
        "colab": {
          "base_uri": "https://localhost:8080/"
        },
        "id": "Nqe0wTLhOBSz",
        "outputId": "d64c38dd-0aab-4600-9c33-dd46bfc2f231"
      },
      "source": [
        "np.eye(3)"
      ],
      "execution_count": 51,
      "outputs": [
        {
          "output_type": "execute_result",
          "data": {
            "text/plain": [
              "array([[1., 0., 0.],\n",
              "       [0., 1., 0.],\n",
              "       [0., 0., 1.]])"
            ]
          },
          "metadata": {},
          "execution_count": 51
        }
      ]
    },
    {
      "cell_type": "code",
      "metadata": {
        "colab": {
          "base_uri": "https://localhost:8080/"
        },
        "id": "XegxQGV3SMUb",
        "outputId": "a03163df-c745-49d7-8695-65f9d930e6df"
      },
      "source": [
        "np.random.rand(5)"
      ],
      "execution_count": 56,
      "outputs": [
        {
          "output_type": "execute_result",
          "data": {
            "text/plain": [
              "array([0.38378402, 0.52844486, 0.82628861, 0.57546198, 0.3849309 ])"
            ]
          },
          "metadata": {},
          "execution_count": 56
        }
      ]
    },
    {
      "cell_type": "code",
      "metadata": {
        "colab": {
          "base_uri": "https://localhost:8080/"
        },
        "id": "ly97m_cFSQDS",
        "outputId": "fb5c1289-20c0-4061-80ed-7f919b6082be"
      },
      "source": [
        "np.arange(1,10,1)"
      ],
      "execution_count": 57,
      "outputs": [
        {
          "output_type": "execute_result",
          "data": {
            "text/plain": [
              "array([1, 2, 3, 4, 5, 6, 7, 8, 9])"
            ]
          },
          "metadata": {},
          "execution_count": 57
        }
      ]
    },
    {
      "cell_type": "code",
      "metadata": {
        "colab": {
          "base_uri": "https://localhost:8080/"
        },
        "id": "avp37YleTKzI",
        "outputId": "1ec255aa-d38b-406a-aa50-ecf5e5d4a8ab"
      },
      "source": [
        "np.arange(1,101,2)"
      ],
      "execution_count": 58,
      "outputs": [
        {
          "output_type": "execute_result",
          "data": {
            "text/plain": [
              "array([ 1,  3,  5,  7,  9, 11, 13, 15, 17, 19, 21, 23, 25, 27, 29, 31, 33,\n",
              "       35, 37, 39, 41, 43, 45, 47, 49, 51, 53, 55, 57, 59, 61, 63, 65, 67,\n",
              "       69, 71, 73, 75, 77, 79, 81, 83, 85, 87, 89, 91, 93, 95, 97, 99])"
            ]
          },
          "metadata": {},
          "execution_count": 58
        }
      ]
    },
    {
      "cell_type": "code",
      "metadata": {
        "id": "S2TRYNKHUWdH"
      },
      "source": [
        ""
      ],
      "execution_count": null,
      "outputs": []
    }
  ]
}